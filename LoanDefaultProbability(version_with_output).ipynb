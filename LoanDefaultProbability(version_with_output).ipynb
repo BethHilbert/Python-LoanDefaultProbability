{
 "cells": [
  {
   "cell_type": "markdown",
   "metadata": {},
   "source": [
    "# Predicting Loan Default Risk \n",
    "\n",
    "https://www.kaggle.com/c/home-credit-default-risk\n",
    "\n",
    "Predict the probabilty an applicant will default on a loan.\n",
    "\n",
    "The main source is an application (identified by a unique SK_ID_CURR). The main source is imported as train and test. There are 6 other data sources at differing grains. Each source is imported and then aligned to the grain of one application. In order to align, a dataframe named df_all_ids is first created with all the SK_ID_CURR of that source. When preprocessing and data engineering is complete for each source, the dataframe df_all_ids is joined to the primary dataframes of train and test. The process then begins for the next source.  Once all the sources are imported, the primary dataframes are copied and renamed train_X and test_X. The columns are aligned and features are scaled. LightGBM with crossfold validation is the algorithm used. "
   ]
  },
  {
   "cell_type": "markdown",
   "metadata": {},
   "source": [
    "## Import Libraries"
   ]
  },
  {
   "cell_type": "code",
   "execution_count": 1,
   "metadata": {
    "collapsed": false
   },
   "outputs": [
    {
     "name": "stderr",
     "output_type": "stream",
     "text": [
      "C:\\Users\\bth\\Anaconda2\\lib\\site-packages\\sklearn\\cross_validation.py:44: DeprecationWarning: This module was deprecated in version 0.18 in favor of the model_selection module into which all the refactored classes and functions are moved. Also note that the interface of the new CV iterators are different from that of this module. This module will be removed in 0.20.\n",
      "  \"This module will be removed in 0.20.\", DeprecationWarning)\n"
     ]
    }
   ],
   "source": [
    "import numpy as np\n",
    "import pandas as pd \n",
    "import matplotlib\n",
    "import matplotlib.pyplot as plt\n",
    "import seaborn as sb\n",
    "import gc\n",
    "from lightgbm import LGBMClassifier\n",
    "from sklearn.cross_validation import train_test_split\n",
    "from sklearn.decomposition import PCA\n",
    "from sklearn.discriminant_analysis import LinearDiscriminantAnalysis\n",
    "from sklearn.metrics import accuracy_score, roc_auc_score, roc_curve\n",
    "from sklearn.metrics import confusion_matrix, classification_report, accuracy_score\n",
    "from sklearn.model_selection import KFold, StratifiedKFold \n",
    "from sklearn.preprocessing import Imputer\n",
    "from sklearn.preprocessing import LabelEncoder\n",
    "from sklearn.preprocessing import OneHotEncoder\n",
    "from sklearn.preprocessing import StandardScaler\n",
    "\n",
    "import os\n",
    "import warnings\n",
    "warnings.filterwarnings('ignore')\n",
    "\n",
    "# Automatically give the time taken to execute each cell\n",
    "# Install with pip install ipython-autotime \n",
    "%load_ext autotime\n",
    "\n",
    "# Plotting Graphs Configuration\n",
    "%matplotlib inline\n",
    "matplotlib.rcParams['figure.figsize'] = 14, 7\n",
    "plt.style.use('seaborn-whitegrid')"
   ]
  },
  {
   "cell_type": "markdown",
   "metadata": {},
   "source": [
    "## Application Data"
   ]
  },
  {
   "cell_type": "code",
   "execution_count": 2,
   "metadata": {
    "collapsed": false
   },
   "outputs": [
    {
     "name": "stdout",
     "output_type": "stream",
     "text": [
      "time: 4.89 s\n"
     ]
    }
   ],
   "source": [
    "train = pd.read_csv('data/application_train.csv')\n",
    "test = pd.read_csv('data/application_test.csv')\n",
    "traintarget = train[['SK_ID_CURR', 'TARGET']].copy()\n",
    "\n",
    "train.set_index(\"SK_ID_CURR\", inplace = True)\n",
    "test.set_index(\"SK_ID_CURR\", inplace = True)"
   ]
  },
  {
   "cell_type": "code",
   "execution_count": 3,
   "metadata": {
    "collapsed": false
   },
   "outputs": [
    {
     "name": "stdout",
     "output_type": "stream",
     "text": [
      "time: 270 ms\n"
     ]
    }
   ],
   "source": [
    "def app_preprocessing(df):\n",
    "    \"\"\"drop_these_columns = [ 'WALLSMATERIAL_MODE','ORGANIZATION_TYPE', 'WALLSMATERIAL_MODE', \n",
    "          'REGION_RATING_CLIENT', 'HOUSETYPE_MODE', 'CNT_CHILDREN', 'OBS_60_CNT_SOCIAL_CIRCLE', \n",
    "          'DEF_60_CNT_SOCIAL_CIRCLE', LIVE_CITY_NOT_WORK_CITY', 'LIVE_REGION_NOT_WORK_REGION', \n",
    "          'AMT_REQ_CREDIT_BUREAU_HOUR','AMT_REQ_CREDIT_BUREAU_WEEK', 'AMT_REQ_CREDIT_BUREAU_DAY',\n",
    "          'FLAG_CONT_MOBILE', 'FLAG_MOBIL', 'FLAG_EMAIL', 'FLAG_PHONE', 'NAME_TYPE_SUITE',\n",
    "          'NAME_INCOME_TYPE', 'FLAG_OWN_CAR', 'REG_REGION_NOT_WORK_REGION', 'EMERGENCYSTATE_MODE',\n",
    "          'REG_REGION_NOT_LIVE_REGION', 'WEEKDAY_APPR_PROCESS_START',\n",
    "          'FLAG_EMP_PHONE', 'REG_CITY_NOT_WORK_CITY']  \n",
    "    df.drop(drop_these_columns, axis=1, inplace=True)\n",
    "    \"\"\"\n",
    "    \n",
    "    df.fillna({ 'EMERGENCYSTATE_MODE': 'No',\n",
    "                    'OCCUPATION_TYPE': 'unknown',\n",
    "                    'NAME_TYPE_SUITE': 'unknown',\n",
    "                    'CNT_FAM_MEMBERS': 1, \n",
    "                    'EXT_SOURCE_1': df['EXT_SOURCE_1'].median(),\n",
    "                    'EXT_SOURCE_2': df['EXT_SOURCE_2'].median(),\n",
    "                    'EXT_SOURCE_3': df['EXT_SOURCE_3'].median(),\n",
    "                    'OWN_CAR_AGE': df['OWN_CAR_AGE'].median(), \n",
    "                    'AMT_GOODS_PRICE': df['AMT_GOODS_PRICE'].median(), \n",
    "                    'AMT_ANNUITY': df['AMT_ANNUITY'].median(), \n",
    "                    'TOTALAREA_MODE': df['TOTALAREA_MODE'].median()   \n",
    "                     }, inplace=True)\n",
    "    df['NAME_EDUCATION_TYPE'].replace({'Higher education': 'Higher',\n",
    "                                     'Academic degree': 'Higher',\n",
    "                                     'Incomplete higher':'Secondary',\n",
    "                                     'Lower secondary': 'Secondary',\n",
    "                                     'Secondary / secondary special':'Secondary'}, inplace=True)\n",
    "    df['CODE_GENDER'].replace('XNA', 'F', inplace=True) \n",
    "    \n",
    "    df['DAYS_EMPLOYED_ANOM'] = df[\"DAYS_EMPLOYED\"] == 365243\n",
    "    df['DAYS_EMPLOYED'].replace(365243, np.nan, inplace= True)\n",
    "    df['NAME_FAMILY_STATUS'].replace('Unknown', 'Married', inplace=True)\n",
    "  \n",
    "    return df\n",
    "\n",
    "train = app_preprocessing(train)\n",
    "test = app_preprocessing(test)"
   ]
  },
  {
   "cell_type": "code",
   "execution_count": 4,
   "metadata": {
    "collapsed": false
   },
   "outputs": [
    {
     "name": "stdout",
     "output_type": "stream",
     "text": [
      "time: 2.9 s\n"
     ]
    }
   ],
   "source": [
    "le = LabelEncoder()\n",
    "for col in train: \n",
    "    if train[col].dtype == 'object':\n",
    "        if len(list(train[col].unique())) <= 2:          \n",
    "            le.fit(train[col])  \n",
    "            train[col] = le.transform(train[col]) \n",
    "            test[col] = le.transform(test[col]) \n",
    "\n",
    "def one_hot_encoder(df):\n",
    "    original_columns = list(df.columns)\n",
    "    categorical_columns = [col for col in df.columns if df[col].dtype == 'object']\n",
    "    df = pd.get_dummies(df, columns= categorical_columns)\n",
    "    new_columns = [c for c in df.columns if c not in original_columns]\n",
    "    return df, new_columns\n",
    "\n",
    "train, train_cat = one_hot_encoder(train)\n",
    "test, test_cat = one_hot_encoder(test)"
   ]
  },
  {
   "cell_type": "code",
   "execution_count": 5,
   "metadata": {
    "collapsed": false
   },
   "outputs": [
    {
     "name": "stdout",
     "output_type": "stream",
     "text": [
      "time: 18.3 s\n"
     ]
    }
   ],
   "source": [
    "def fill_na_with(df, strategy_ = 'median'):\n",
    "    imputer = Imputer(strategy = strategy_, axis = 0)\n",
    "    return pd.DataFrame(imputer.fit_transform(df), columns = df.columns, index = df.index)\n",
    "\n",
    "train = fill_na_with(train)\n",
    "test = fill_na_with(test)"
   ]
  },
  {
   "cell_type": "code",
   "execution_count": 6,
   "metadata": {
    "collapsed": false
   },
   "outputs": [
    {
     "name": "stdout",
     "output_type": "stream",
     "text": [
      "time: 11 s\n"
     ]
    }
   ],
   "source": [
    "def app_feature_engineering(df):    \n",
    "    df['EMPLOYED_TO_BIRTH_RATIO'] = df['DAYS_EMPLOYED'] / df['DAYS_BIRTH'] \n",
    "    df['CREDIT_TO_INCOME_RATIO'] =  df['AMT_CREDIT'] / df['AMT_INCOME_TOTAL'] \n",
    "    df['CREDIT_TO_ANNUITY_RATIO'] =  df['AMT_CREDIT'] / df['AMT_ANNUITY']\n",
    "    df['CREDIT_TO_GOODS_RATIO'] =  df['AMT_CREDIT'] / df['AMT_GOODS_PRICE']\n",
    "    df['ANNUITY_TO_INCOME_RATIO'] = df['AMT_ANNUITY'] / df['AMT_INCOME_TOTAL'] \n",
    "    df['INCOME_PERPERSON'] = df['AMT_INCOME_TOTAL'] / df['CNT_FAM_MEMBERS']  \n",
    "    df['CREDIT_PERPERSON'] = df['AMT_CREDIT'] / df['CNT_FAM_MEMBERS']   \n",
    "    df['INCOME_MINUS_CREDIT_PERPERSON'] = (df['AMT_INCOME_TOTAL'] - df['AMT_CREDIT']) / df['CNT_FAM_MEMBERS']  \n",
    "    df['CARAGE_TO_BIRTH_RATIO'] = df['OWN_CAR_AGE']  / df['DAYS_BIRTH'] \n",
    "    df['PHONETO_BIRTH_RATIO'] = df['DAYS_LAST_PHONE_CHANGE']  / df['DAYS_BIRTH'] \n",
    "    df['OBS_30_DEFAULT_RATIO'] = df ['DEF_30_CNT_SOCIAL_CIRCLE'] / df['OBS_30_CNT_SOCIAL_CIRCLE']\n",
    "    \n",
    "app_feature_engineering(train)\n",
    "app_feature_engineering (test)\n",
    "\n",
    "train = fill_na_with(train)\n",
    "test = fill_na_with(test)"
   ]
  },
  {
   "cell_type": "markdown",
   "metadata": {},
   "source": [
    "# Additional Data Files"
   ]
  },
  {
   "cell_type": "markdown",
   "metadata": {},
   "source": [
    "### Additional Source: Bureau and Bureau Balance\n"
   ]
  },
  {
   "cell_type": "code",
   "execution_count": 7,
   "metadata": {
    "collapsed": false
   },
   "outputs": [
    {
     "name": "stdout",
     "output_type": "stream",
     "text": [
      "time: 13.5 s\n"
     ]
    }
   ],
   "source": [
    "bureau = pd.read_csv('data/bureau.csv')\n",
    "bureau = bureau.add_prefix('bureau_') #add prefix showing source\n",
    "bureau = bureau.rename(columns = {'bureau_SK_ID_CURR': 'SK_ID_CURR', 'bureau_SK_ID_BUREAU': 'SK_ID_BUREAU',}) #remove prefix from id\n",
    "bureau = bureau.fillna(0) \n",
    "\n",
    "bb = pd.read_csv('data/bureau_balance.csv')\n",
    "bb = bb.add_prefix('bb_') #add prefix showing source\n",
    "bb = bb.rename(columns = { 'bb_SK_ID_BUREAU': 'SK_ID_BUREAU',}) #remove prefix from id\n",
    "bb = bb.fillna(0)\n",
    "\n",
    "df_all_ids = pd.DataFrame({'SK_ID_CURR':bureau['SK_ID_CURR'].unique()}) #used to align grain"
   ]
  },
  {
   "cell_type": "code",
   "execution_count": 8,
   "metadata": {
    "collapsed": false
   },
   "outputs": [
    {
     "name": "stdout",
     "output_type": "stream",
     "text": [
      "time: 7.08 s\n"
     ]
    }
   ],
   "source": [
    "# align to grain of SK_ID_BUREAU\n",
    "bb, bb_cat = one_hot_encoder(bb)\n",
    "\n",
    "grp = bb.groupby(['SK_ID_BUREAU']).agg({\n",
    "        'bb_MONTHS_BALANCE': ['size'],\n",
    "        'bb_STATUS_X': ['sum'],\n",
    "        'bb_STATUS_C': ['sum'],\n",
    "        'bb_STATUS_1': ['sum']\n",
    "})\n",
    "grp.columns = pd.Index([e[0] + '_' + e[1] for e in grp.columns.tolist()])\n",
    "bureau = bureau.join(grp, on = ['SK_ID_BUREAU'], how = 'left') \n",
    "\n",
    "# formulas on grain of SK_ID_BUREAU\n",
    "bureau['bb_STATUS_X_PERCENT'] = bureau['bb_STATUS_X_sum'] / bureau['bb_MONTHS_BALANCE_size']\n",
    "bureau['bb_STATUS_C_PERCENT'] = bureau['bb_STATUS_C_sum'] / bureau['bb_MONTHS_BALANCE_size']\n",
    "bureau['bb_STATUS_1_PERCENT'] = bureau['bb_STATUS_1_sum'] / bureau['bb_MONTHS_BALANCE_size']"
   ]
  },
  {
   "cell_type": "code",
   "execution_count": 9,
   "metadata": {
    "collapsed": false
   },
   "outputs": [
    {
     "name": "stdout",
     "output_type": "stream",
     "text": [
      "time: 10.1 s\n"
     ]
    }
   ],
   "source": [
    "groupby_SK_ID_CURR = bureau.groupby(by=['SK_ID_CURR'])\n",
    "\n",
    "# created at level of bureau\n",
    "bureau['bureau_CREDIT_ACTIVE_FLAG'] = (bureau['bureau_CREDIT_ACTIVE'] != 'Closed').astype(int)\n",
    "bureau['bureau_CREDIT_ENDDATE_FLAG'] = (bureau['bureau_DAYS_CREDIT_ENDDATE'] > 0).astype(int)\n",
    "\n",
    "grp = groupby_SK_ID_CURR['bureau_DAYS_CREDIT'].agg('count').reset_index()\n",
    "grp.rename(index=str, columns={'bureau_DAYS_CREDIT': 'bureau_NUMBER_PAST_LOANS'},inplace=True)\n",
    "df_all_ids = df_all_ids.merge(grp, on=['SK_ID_CURR'], how='left')\n",
    "\n",
    "grp = groupby_SK_ID_CURR['bureau_CREDIT_TYPE'].agg('nunique').reset_index()\n",
    "grp.rename(index=str, columns={'bureau_CREDIT_TYPE': 'bureau_NUMBER_LOAN_TYPES'},inplace=True)\n",
    "df_all_ids = df_all_ids.merge(grp, on=['SK_ID_CURR'], how='left')\n",
    "df_all_ids = fill_na_with(df_all_ids)\n",
    "\n",
    "df_all_ids['bureau_PASTLOANS_PER_TYPE_RATIO'] = df_all_ids['bureau_NUMBER_PAST_LOANS'] / df_all_ids['bureau_NUMBER_LOAN_TYPES']\n",
    "\n",
    "bureau, cat_cols = one_hot_encoder(bureau)\n",
    "\n",
    "# align to grain of SK_ID_CURR\n",
    "grp = bureau.groupby(['SK_ID_CURR']).agg({\n",
    "        'bureau_CREDIT_ACTIVE_FLAG': ['sum', 'mean'],  \n",
    "        'bureau_CREDIT_ENDDATE_FLAG': ['sum', 'mean'], \n",
    "        'bureau_DAYS_CREDIT_ENDDATE': ['mean', 'max','min', 'var'],\n",
    "        'bureau_DAYS_CREDIT_UPDATE': ['mean', 'max','min','var'], \n",
    "        'bureau_AMT_CREDIT_SUM_DEBT': ['sum', 'mean', 'max','min','var'], \n",
    "        'bureau_AMT_CREDIT_SUM_OVERDUE': ['sum', 'max','min','var', 'mean'], \n",
    "        'bureau_AMT_CREDIT_MAX_OVERDUE': ['mean', 'max','min','var'], \n",
    "        'bureau_AMT_CREDIT_SUM': ['sum', 'max','min','var', 'mean'], \n",
    "        'bureau_AMT_CREDIT_SUM_LIMIT': ['sum', 'max','min','var'], \n",
    "        'bureau_AMT_ANNUITY': ['sum', 'mean', 'max','min','var'],  \n",
    "        'bureau_DAYS_CREDIT': ['mean','max','min','var'], \n",
    "        'bb_STATUS_X_PERCENT': ['mean', 'max','min','var'],\n",
    "        'bb_STATUS_C_PERCENT': ['mean', 'max','min','var'], \n",
    "        'bb_STATUS_1_PERCENT': ['mean', 'max','min','var'], \n",
    "        'bb_MONTHS_BALANCE_size': ['max', 'var','sum', 'mean'],\n",
    "        'bureau_CREDIT_TYPE_Credit card': ['sum'],\n",
    "        'bureau_CREDIT_TYPE_Microloan': ['sum']\n",
    "})\n",
    "grp.columns = pd.Index([e[0] + '_' + e[1] for e in grp.columns.tolist()])\n",
    "df_all_ids = df_all_ids.join(grp, on = ['SK_ID_CURR'], how = 'left')\n",
    "\n",
    "\"\"\"\n",
    "# aggregations separately for active\n",
    "num_aggregations = {\n",
    "        'bureau_DAYS_CREDIT': ['max', 'var', 'mean'], \n",
    "        'bureau_DAYS_CREDIT_ENDDATE': ['min', 'mean'],\n",
    "        'bureau_DAYS_CREDIT_UPDATE': ['mean', 'max','min'], \n",
    "        'bureau_AMT_CREDIT_SUM_LIMIT': ['mean', 'max','min'], \n",
    "        'bb_MONTHS_BALANCE_size': ['sum']\n",
    "    }\n",
    "\n",
    "active = bureau[bureau['bureau_CREDIT_ACTIVE_FLAG'] == 1]\n",
    "grp = active.groupby('SK_ID_CURR').agg(num_aggregations)\n",
    "grp.columns = pd.Index([e[0] + \"_\" + e[1] + \"_ACTIVE\" for e in grp.columns.tolist()])\n",
    "df_all_ids = df_all_ids.join(grp, how='left', on='SK_ID_CURR')\n",
    "df_all_ids = fill_na_with(df_all_ids)    \n",
    "\"\"\"\n",
    "df_all_ids['bureau_CREDIT_MINUS_OVERDUE'] = df_all_ids['bureau_AMT_CREDIT_SUM_mean'] - df_all_ids['bureau_AMT_CREDIT_SUM_OVERDUE_mean'] \n",
    "df_all_ids['bureau_MONTHSBALANCE_DIVIDEDBY_DAYSCREDIT'] = df_all_ids['bb_MONTHS_BALANCE_size_mean'] / df_all_ids['bureau_DAYS_CREDIT_mean'] \n",
    "\n",
    "df_all_ids = fill_na_with(df_all_ids)"
   ]
  },
  {
   "cell_type": "code",
   "execution_count": 10,
   "metadata": {
    "collapsed": false
   },
   "outputs": [
    {
     "data": {
      "text/plain": [
       "481"
      ]
     },
     "execution_count": 10,
     "metadata": {},
     "output_type": "execute_result"
    },
    {
     "name": "stdout",
     "output_type": "stream",
     "text": [
      "time: 18.6 s\n"
     ]
    }
   ],
   "source": [
    "df_all_ids.set_index('SK_ID_CURR', inplace = True)\n",
    "\n",
    "train = train.merge(df_all_ids, how='left', left_index = True, right_index = True)\n",
    "test = test.merge(df_all_ids, how='left', left_index = True, right_index = True)\n",
    "\n",
    "train = fill_na_with(train)\n",
    "test = fill_na_with(test)\n",
    "\n",
    "gc.enable()\n",
    "del bb, bureau, df_all_ids, grp\n",
    "gc.collect()"
   ]
  },
  {
   "cell_type": "markdown",
   "metadata": {},
   "source": [
    "### Additional Source: POS Cash Balance"
   ]
  },
  {
   "cell_type": "code",
   "execution_count": 11,
   "metadata": {
    "collapsed": false
   },
   "outputs": [
    {
     "name": "stdout",
     "output_type": "stream",
     "text": [
      "time: 8.33 s\n"
     ]
    }
   ],
   "source": [
    "pos = pd.read_csv('data/POS_Cash_balance.csv')\n",
    "pos = pos.add_prefix('cash_') #add prefix showing source\n",
    "pos = pos.rename(columns = {'cash_SK_ID_CURR': 'SK_ID_CURR'}) #remove prefix from id\n",
    "pos = pos.fillna(0)\n",
    "\n",
    "df_all_ids = pd.DataFrame({'SK_ID_CURR':pos['SK_ID_CURR'].unique()}) #use to align grain"
   ]
  },
  {
   "cell_type": "code",
   "execution_count": 12,
   "metadata": {
    "collapsed": false
   },
   "outputs": [
    {
     "name": "stdout",
     "output_type": "stream",
     "text": [
      "time: 11 s\n"
     ]
    }
   ],
   "source": [
    "# Retrieve most recent row per cash loan (group of SK_ID_CURR and cash_SK_ID_PREV)\n",
    "grp = pos.groupby(['SK_ID_CURR', 'cash_SK_ID_PREV'], as_index=False).first()\n",
    "grp['cash_FUTURE_RATIO'] = grp['cash_CNT_INSTALMENT_FUTURE'] / grp['cash_CNT_INSTALMENT']\n",
    "grp['cash_CONTRACT_STATUS_ACTIVE'] = 0\n",
    "grp['cash_CONTRACT_STATUS_ACTIVE'] = grp['cash_CONTRACT_STATUS_ACTIVE'].mask(grp['cash_NAME_CONTRACT_STATUS'] == 'Active', 1)\n",
    "\n",
    "# align from grain of SK_ID_PREV to grain of SK_ID_CURR\n",
    "grp1 = grp.groupby(['SK_ID_CURR']).agg({\n",
    "            'cash_CONTRACT_STATUS_ACTIVE': ['sum'],\n",
    "            'cash_FUTURE_RATIO': ['min'],\n",
    "            'cash_CNT_INSTALMENT_FUTURE': ['mean', 'max','min'] \n",
    "        })\n",
    "grp1.columns = pd.Index([e[0] + '_' + e[1] for e in grp1.columns.tolist()])\n",
    "df_all_ids = df_all_ids.join(grp1, on = ['SK_ID_CURR'], how = 'left')\n",
    "\n",
    "# Calculates days late\n",
    "pos['cash_SK_DPD_late'] = 0\n",
    "pos['cash_SK_DPD_late'] = pos['cash_SK_DPD_late'].mask(pos['cash_SK_DPD'] >= 1, 1)\n",
    "\n",
    "# Fields calculated at grain of month installment\n",
    "pos, cat_cols = one_hot_encoder(pos)\n",
    "\n",
    "# align to grain of SK_ID_CURR\n",
    "grp = pos.groupby(['SK_ID_CURR']).agg({\n",
    "        'cash_MONTHS_BALANCE': ['min', 'mean'], \n",
    "        'cash_CNT_INSTALMENT': ['max', 'mean'],\n",
    "        'cash_SK_DPD_late': ['mean', 'max'] \n",
    "        })\n",
    "grp.columns = pd.Index([e[0] + '_' + e[1] for e in grp.columns.tolist()])\n",
    "df_all_ids = df_all_ids.join(grp, on = ['SK_ID_CURR'], how = 'left')\n",
    "df_all_ids = fill_na_with(df_all_ids)"
   ]
  },
  {
   "cell_type": "code",
   "execution_count": 13,
   "metadata": {
    "collapsed": false
   },
   "outputs": [
    {
     "data": {
      "text/plain": [
       "287"
      ]
     },
     "execution_count": 13,
     "metadata": {},
     "output_type": "execute_result"
    },
    {
     "name": "stdout",
     "output_type": "stream",
     "text": [
      "time: 14.4 s\n"
     ]
    }
   ],
   "source": [
    "df_all_ids.set_index('SK_ID_CURR', inplace = True)\n",
    "\n",
    "train = train.merge(df_all_ids, how='left', left_index = True, right_index = True)\n",
    "test = test.merge(df_all_ids, how='left', left_index = True, right_index = True)\n",
    "\n",
    "train = fill_na_with(train)\n",
    "test = fill_na_with(test) \n",
    "\n",
    "gc.enable()\n",
    "del pos, df_all_ids, grp\n",
    "gc.collect()"
   ]
  },
  {
   "cell_type": "markdown",
   "metadata": {},
   "source": [
    "### Additional Source: CC Balance"
   ]
  },
  {
   "cell_type": "code",
   "execution_count": 14,
   "metadata": {
    "collapsed": false
   },
   "outputs": [
    {
     "name": "stdout",
     "output_type": "stream",
     "text": [
      "time: 11.5 s\n"
     ]
    }
   ],
   "source": [
    "cc = pd.read_csv('data/credit_card_balance.csv')\n",
    "cc = cc.add_prefix('cc_') #add prefix showing source\n",
    "cc = cc.rename(columns = {'cc_SK_ID_CURR': 'SK_ID_CURR'}) #remove prefix from id\n",
    "cc = cc.fillna(0)\n",
    "\n",
    "df_all_ids = pd.DataFrame({'SK_ID_CURR':cc['SK_ID_CURR'].unique()}) #use to align grain"
   ]
  },
  {
   "cell_type": "code",
   "execution_count": 15,
   "metadata": {
    "collapsed": false
   },
   "outputs": [
    {
     "name": "stdout",
     "output_type": "stream",
     "text": [
      "time: 3.38 s\n"
     ]
    }
   ],
   "source": [
    "cc, cat_cols = one_hot_encoder(cc) \n",
    "\n",
    "# align to grain of SK_ID_CURR\n",
    "grp = cc.groupby(['SK_ID_CURR']).agg({\n",
    "                    'cc_MONTHS_BALANCE': ['min', 'max', 'mean'], \n",
    "                    'cc_AMT_BALANCE': ['mean', 'max','min'], \n",
    "                    'cc_AMT_DRAWINGS_CURRENT': ['mean', 'max','min'], \n",
    "                    'cc_SK_DPD_DEF': ['mean', 'max','min'], \n",
    "                    'cc_CNT_INSTALMENT_MATURE_CUM': ['mean', 'max','min'], \n",
    "                    'cc_AMT_DRAWINGS_ATM_CURRENT': ['mean', 'max','min'], \n",
    "                    'cc_AMT_CREDIT_LIMIT_ACTUAL': ['mean', 'max','min'],\n",
    "                    'cc_AMT_DRAWINGS_ATM_CURRENT': ['mean', 'max','min'],\n",
    "                    'cc_AMT_DRAWINGS_OTHER_CURRENT': ['mean', 'max','min'],\n",
    "                    'cc_AMT_INST_MIN_REGULARITY': ['mean', 'max','min'],\n",
    "                    'cc_AMT_RECEIVABLE_PRINCIPAL': ['mean', 'max','min'],\n",
    "                    'cc_AMT_TOTAL_RECEIVABLE': ['mean', 'max','min']\n",
    "            })\n",
    "grp.columns = pd.Index([e[0] + '_' + e[1] for e in grp.columns.tolist()])\n",
    "df_all_ids = df_all_ids.join(grp, on = ['SK_ID_CURR'], how = 'left')\n",
    "df_all_ids = fill_na_with(df_all_ids)\n",
    "\n",
    "#fields created at grain of SK_ID_CURR\n",
    "df_all_ids['cc_ATM_TO_TOTALDRAW_RATIO'] = df_all_ids['cc_AMT_DRAWINGS_ATM_CURRENT_mean'] / df_all_ids[\n",
    "    'cc_AMT_DRAWINGS_CURRENT_mean']"
   ]
  },
  {
   "cell_type": "code",
   "execution_count": 16,
   "metadata": {
    "collapsed": false
   },
   "outputs": [
    {
     "data": {
      "text/plain": [
       "242"
      ]
     },
     "execution_count": 16,
     "metadata": {},
     "output_type": "execute_result"
    },
    {
     "name": "stdout",
     "output_type": "stream",
     "text": [
      "time: 16.1 s\n"
     ]
    }
   ],
   "source": [
    "df_all_ids.set_index('SK_ID_CURR', inplace = True)\n",
    "\n",
    "train = train.merge(df_all_ids, how='left', left_index = True, right_index = True)\n",
    "test = test.merge(df_all_ids, how='left', left_index = True, right_index = True)\n",
    "\n",
    "train = fill_na_with(train)\n",
    "test = fill_na_with(test)\n",
    "\n",
    "gc.enable()\n",
    "del cc, df_all_ids, grp\n",
    "gc.collect()"
   ]
  },
  {
   "cell_type": "markdown",
   "metadata": {},
   "source": [
    "### Additional Source: Previous Application"
   ]
  },
  {
   "cell_type": "code",
   "execution_count": 17,
   "metadata": {
    "collapsed": false
   },
   "outputs": [
    {
     "name": "stdout",
     "output_type": "stream",
     "text": [
      "time: 9.27 s\n"
     ]
    }
   ],
   "source": [
    "prevapp = pd.read_csv('data/previous_application.csv')\n",
    "prevapp = prevapp.add_prefix('prevapp_') #add prefix showing source\n",
    "prevapp = prevapp.rename(columns = {'prevapp_SK_ID_CURR': 'SK_ID_CURR'}) #remove prefix from id\n",
    "prevapp = prevapp.fillna(0)\n",
    "\n",
    "df_all_ids = pd.DataFrame({'SK_ID_CURR':prevapp['SK_ID_CURR'].unique()}) #use to align grain"
   ]
  },
  {
   "cell_type": "code",
   "execution_count": 18,
   "metadata": {
    "collapsed": false
   },
   "outputs": [
    {
     "name": "stdout",
     "output_type": "stream",
     "text": [
      "time: 13.2 s\n"
     ]
    }
   ],
   "source": [
    "# processing on grain of previous appp\n",
    "prevapp['prevapp_DAYS_FIRST_DRAWING'].replace(365243, np.nan, inplace= True)\n",
    "prevapp['prevapp_DAYS_FIRST_DUE'].replace(365243, np.nan, inplace= True)\n",
    "prevapp['prevapp_DAYS_LAST_DUE_1ST_VERSION'].replace(365243, np.nan, inplace= True)\n",
    "prevapp['prevapp_DAYS_LAST_DUE'].replace(365243, np.nan, inplace= True)\n",
    "prevapp['prevapp_DAYS_TERMINATION'].replace(365243, np.nan, inplace= True)\n",
    "prevapp['prevapp_ASKED_MINUS_CREDITGIVEN'] = prevapp['prevapp_AMT_APPLICATION'] - prevapp['prevapp_AMT_CREDIT']\n",
    "prevapp['prevapp_CREDIT_MINUS_GOODSPRICE'] = prevapp['prevapp_AMT_CREDIT'] - prevapp['prevapp_AMT_GOODS_PRICE']\n",
    "\n",
    "prevapp, cat_cols = one_hot_encoder(prevapp)\n",
    "\n",
    "# align to grain of SK_ID_CURR\n",
    "grp = prevapp.groupby(['SK_ID_CURR']).agg({\n",
    "                    'prevapp_AMT_ANNUITY': ['mean', 'max','min','var'], \n",
    "                    'prevapp_AMT_APPLICATION': ['mean', 'max','min', 'var'],    \n",
    "                    'prevapp_AMT_DOWN_PAYMENT': ['max', 'mean', 'min'],\n",
    "                    'prevapp_AMT_CREDIT': ['min', 'mean', 'max'], \n",
    "                    'prevapp_ASKED_MINUS_CREDITGIVEN': ['max', 'mean', 'min'], \n",
    "                    'prevapp_CREDIT_MINUS_GOODSPRICE': ['mean','max', 'min'], \n",
    "                    'prevapp_RATE_DOWN_PAYMENT': ['max', 'min'], \n",
    "                    'prevapp_DAYS_DECISION': ['max', 'mean'], \n",
    "                    'prevapp_CNT_PAYMENT': ['mean', 'max', 'min'], \n",
    "                    'prevapp_DAYS_LAST_DUE': ['max', 'mean', 'var'], \n",
    "                    'prevapp_NAME_CONTRACT_TYPE_Consumer loans': ['sum'],\n",
    "                    'prevapp_NAME_CONTRACT_STATUS_Canceled': ['sum'],\n",
    "                    'prevapp_CODE_REJECT_REASON_HC': ['sum'],         \n",
    "                    'prevapp_NAME_PRODUCT_TYPE_x-sell': ['sum','mean'], \n",
    "                    'prevapp_NAME_PRODUCT_TYPE_walk-in': ['sum','mean'],       \n",
    "                    'prevapp_NAME_YIELD_GROUP_middle': ['sum', 'mean'], \n",
    "                    'prevapp_NAME_YIELD_GROUP_high': ['sum', 'mean'],\n",
    "                    'prevapp_NAME_YIELD_GROUP_low_action': ['sum', 'mean'],\n",
    "                    'prevapp_DAYS_FIRST_DRAWING':['mean','max', 'min'],\n",
    "                    'prevapp_DAYS_FIRST_DUE': ['mean','max', 'min'],\n",
    "                    'prevapp_DAYS_LAST_DUE_1ST_VERSION': ['mean','max', 'min'],\n",
    "                    'prevapp_DAYS_TERMINATION': ['mean','max', 'min']\n",
    "                  })\n",
    "grp.columns = pd.Index([e[0] + '_' + e[1] for e in grp.columns.tolist()])\n",
    "df_all_ids = df_all_ids.join(grp, on = ['SK_ID_CURR'], how = 'left')\n",
    "df_all_ids = fill_na_with(df_all_ids)\n",
    "\n",
    "num_aggregations = {'prevapp_AMT_CREDIT': ['min'],\n",
    "                    'prevapp_CNT_PAYMENT': ['sum'],\n",
    "                  }\n",
    "approved = prevapp[prevapp['prevapp_NAME_CONTRACT_STATUS_Approved'] == 1]\n",
    "grp = approved.groupby('SK_ID_CURR').agg(num_aggregations)\n",
    "grp.columns = pd.Index([e[0] + \"_\" + e[1] + \"_APPROVED\" for e in grp.columns.tolist()])\n",
    "df_all_ids = df_all_ids.join(grp, how='left', on='SK_ID_CURR')\n",
    "df_all_ids = fill_na_with(df_all_ids)"
   ]
  },
  {
   "cell_type": "code",
   "execution_count": 19,
   "metadata": {
    "collapsed": false
   },
   "outputs": [
    {
     "data": {
      "text/plain": [
       "377"
      ]
     },
     "execution_count": 19,
     "metadata": {},
     "output_type": "execute_result"
    },
    {
     "name": "stdout",
     "output_type": "stream",
     "text": [
      "time: 20.3 s\n"
     ]
    }
   ],
   "source": [
    "df_all_ids.set_index('SK_ID_CURR', inplace = True)\n",
    "\n",
    "train = train.merge(df_all_ids, how='left', left_index = True, right_index = True)\n",
    "test = test.merge(df_all_ids, how='left', left_index = True, right_index = True)\n",
    "train = fill_na_with(train)\n",
    "test = fill_na_with(test)\n",
    "\n",
    "gc.enable()\n",
    "del prevapp, df_all_ids, grp\n",
    "gc.collect()"
   ]
  },
  {
   "cell_type": "markdown",
   "metadata": {},
   "source": [
    "### Additional Source: Installment Payments"
   ]
  },
  {
   "cell_type": "code",
   "execution_count": 20,
   "metadata": {
    "collapsed": false
   },
   "outputs": [
    {
     "name": "stdout",
     "output_type": "stream",
     "text": [
      "time: 15.1 s\n"
     ]
    }
   ],
   "source": [
    "installpay = pd.read_csv('data/installments_payments.csv')\n",
    "installpay = installpay.add_prefix('installpay_') #add prefix showing source\n",
    "installpay = installpay.rename(columns = {'installpay_SK_ID_CURR': 'SK_ID_CURR'}) #remove prefix from id\n",
    "installpay = installpay.fillna(0)\n",
    "\n",
    "df_all_ids = pd.DataFrame({'SK_ID_CURR':installpay['SK_ID_CURR'].unique()}) #use to align grain"
   ]
  },
  {
   "cell_type": "code",
   "execution_count": 21,
   "metadata": {
    "collapsed": false,
    "scrolled": true
   },
   "outputs": [
    {
     "name": "stdout",
     "output_type": "stream",
     "text": [
      "time: 11.6 s\n"
     ]
    }
   ],
   "source": [
    "#create new columns on grain of installment payment\n",
    "installpay['installpay_BALANCE_DUE'] = installpay['installpay_AMT_PAYMENT']- installpay['installpay_AMT_INSTALMENT']\n",
    "installpay['installpay_DAYS_DELTA'] = installpay['installpay_DAYS_INSTALMENT']- installpay['installpay_DAYS_ENTRY_PAYMENT']\n",
    "installpay['installpay_DAYS_LATE_FLAG'] = (installpay['installpay_DAYS_DELTA'] < 0).astype(int)\n",
    "installpay['installpay_DAYS_LATE'] = installpay['installpay_DAYS_DELTA']\n",
    "installpay['installpay_DAYS_LATE'] = installpay['installpay_DAYS_LATE'].mask(installpay['installpay_DAYS_DELTA'] > 0, 0)\n",
    "\n",
    "installpay['installpay_PAID_OVER_AMOUNT'] = installpay['installpay_AMT_PAYMENT'] - installpay['installpay_AMT_INSTALMENT']\n",
    "installpay['installpay_PAID_OVER_FLAG'] = (installpay['installpay_PAID_OVER_AMOUNT'] > 0).astype(int)\n",
    "\n",
    "installpay, cat_cols = one_hot_encoder(installpay)\n",
    "\n",
    "# align to grain of SK_ID_CURR\n",
    "grp = installpay.groupby(['SK_ID_CURR']).agg({\n",
    "        'installpay_DAYS_DELTA': ['mean','max','min', 'var'], \n",
    "        'installpay_DAYS_LATE': ['sum','max','min', 'var'], \n",
    "        'installpay_BALANCE_DUE': ['mean','max','min', 'var'], \n",
    "        'installpay_PAID_OVER_AMOUNT': ['mean','max','min'],\n",
    "        'installpay_AMT_PAYMENT': ['sum', 'mean','max','min','var'], \n",
    "        'installpay_DAYS_LATE_FLAG': ['sum', 'mean'],\n",
    "        'installpay_PAID_OVER_FLAG': ['sum', 'mean'] \n",
    "})\n",
    "grp.columns = pd.Index([e[0] + '_' + e[1] for e in grp.columns.tolist()])\n",
    "df_all_ids = df_all_ids.join(grp, on = ['SK_ID_CURR'], how = 'left')\n",
    "\n",
    "df_all_ids = fill_na_with(df_all_ids)"
   ]
  },
  {
   "cell_type": "code",
   "execution_count": 22,
   "metadata": {
    "collapsed": false
   },
   "outputs": [
    {
     "data": {
      "text/plain": [
       "230"
      ]
     },
     "execution_count": 22,
     "metadata": {},
     "output_type": "execute_result"
    },
    {
     "name": "stdout",
     "output_type": "stream",
     "text": [
      "time: 27.2 s\n"
     ]
    }
   ],
   "source": [
    "df_all_ids.set_index('SK_ID_CURR', inplace = True)\n",
    "\n",
    "train = train.merge(df_all_ids, how='left', left_index = True, right_index = True)\n",
    "test = test.merge(df_all_ids, how='left', left_index = True, right_index = True)\n",
    "\n",
    "train = fill_na_with(train)\n",
    "test = fill_na_with(test)\n",
    "\n",
    "gc.enable()\n",
    "del installpay, df_all_ids, grp\n",
    "gc.collect()"
   ]
  },
  {
   "cell_type": "markdown",
   "metadata": {},
   "source": [
    "## Model Building"
   ]
  },
  {
   "cell_type": "markdown",
   "metadata": {},
   "source": [
    "### Dimension Reduction"
   ]
  },
  {
   "cell_type": "code",
   "execution_count": 23,
   "metadata": {
    "collapsed": false,
    "scrolled": true
   },
   "outputs": [
    {
     "name": "stdout",
     "output_type": "stream",
     "text": [
      "time: 733 ms\n"
     ]
    }
   ],
   "source": [
    "drop_these_columns = ['OWN_CAR_AGE', 'CNT_FAM_MEMBERS', 'CNT_CHILDREN']\n",
    "\n",
    "train.drop(drop_these_columns, axis=1, inplace=True)\n",
    "test.drop(drop_these_columns, axis=1, inplace=True)"
   ]
  },
  {
   "cell_type": "code",
   "execution_count": 24,
   "metadata": {
    "collapsed": false
   },
   "outputs": [
    {
     "name": "stdout",
     "output_type": "stream",
     "text": [
      "time: 8.61 s\n"
     ]
    }
   ],
   "source": [
    "train_X = train.copy()\n",
    "test_X = test.copy()\n",
    "train_X_labels = traintarget['TARGET']  #this saves the value we want to predict\n",
    "\n",
    "def run_lda_on_regex(train_df, test_df, regex, name, targets):\n",
    "    lda = LinearDiscriminantAnalysis(solver = 'eigen', shrinkage = 'auto')\n",
    "    lda.fit(train_df.filter(regex = regex), targets)\n",
    "    \n",
    "    train_lda = pd.DataFrame(lda.transform(\n",
    "        train_df.filter(regex = regex)), index = train_df.index).add_prefix(name)\n",
    "    train_df = train_df.merge(train_lda, how='left', left_index = True, right_index = True)\n",
    "    \n",
    "    test_lda = pd.DataFrame(lda.transform(\n",
    "        test_df.filter(regex = regex)), index = test_df.index).add_prefix(name)\n",
    "    test_df = test_df.merge(test_lda, how='left', left_index = True, right_index = True)\n",
    "    \n",
    "    train_df.drop(train_df.filter(regex = regex).columns, axis = 1, inplace = True)\n",
    "    test_df.drop(test_df.filter(regex = regex).columns, axis = 1, inplace = True)\n",
    "    \n",
    "    return (train_df, test_df)\n",
    "\n",
    "train_X, test_X = run_lda_on_regex(train_X, test_X,\n",
    "   r'(OCCUPATION_TYPE|FLAG_DOCUMENT|NAME_HOUSING|NAME_FAMILY_STATUS|ORGANIZATION_TYPE|EMERGENCYSTATE_MODE|FONDKAPREMONT_MODE|WALLSMATERIAL_MODE|FLAG_EMAIL)_+', 'LDA_', train_X_labels)"
   ]
  },
  {
   "cell_type": "markdown",
   "metadata": {},
   "source": [
    "### Final Prep Before Modeing: get_dummies to convert to numeric columns, align columns, scale"
   ]
  },
  {
   "cell_type": "code",
   "execution_count": 25,
   "metadata": {
    "collapsed": false
   },
   "outputs": [
    {
     "name": "stdout",
     "output_type": "stream",
     "text": [
      "time: 1.48 s\n"
     ]
    }
   ],
   "source": [
    "# all columns must be numeric\n",
    "train_X = pd.get_dummies(train_X)\n",
    "test_X = pd.get_dummies(test_X)\n",
    "\n",
    "# align columns, keeping only columns present in both df\n",
    "train_X, test_X = train_X.align(test_X, join = 'inner', axis = 1)\n",
    "feature_names = train_X.columns"
   ]
  },
  {
   "cell_type": "code",
   "execution_count": 26,
   "metadata": {
    "collapsed": false
   },
   "outputs": [
    {
     "data": {
      "text/plain": [
       "NAME_CONTRACT_TYPE                               1.000000e+00\n",
       "CODE_GENDER                                      1.000000e+00\n",
       "FLAG_OWN_CAR                                     1.000000e+00\n",
       "FLAG_OWN_REALTY                                  1.000000e+00\n",
       "AMT_INCOME_TOTAL                                 1.170000e+08\n",
       "AMT_CREDIT                                       4.050000e+06\n",
       "AMT_ANNUITY                                      2.580255e+05\n",
       "AMT_GOODS_PRICE                                  4.050000e+06\n",
       "NAME_EDUCATION_TYPE                              1.000000e+00\n",
       "REGION_POPULATION_RELATIVE                       7.250800e-02\n",
       "DAYS_BIRTH                                      -7.489000e+03\n",
       "DAYS_EMPLOYED                                    0.000000e+00\n",
       "DAYS_REGISTRATION                                0.000000e+00\n",
       "DAYS_ID_PUBLISH                                  0.000000e+00\n",
       "FLAG_MOBIL                                       1.000000e+00\n",
       "FLAG_EMP_PHONE                                   1.000000e+00\n",
       "FLAG_WORK_PHONE                                  1.000000e+00\n",
       "FLAG_CONT_MOBILE                                 1.000000e+00\n",
       "FLAG_PHONE                                       1.000000e+00\n",
       "FLAG_EMAIL                                       1.000000e+00\n",
       "REGION_RATING_CLIENT                             3.000000e+00\n",
       "REGION_RATING_CLIENT_W_CITY                      3.000000e+00\n",
       "HOUR_APPR_PROCESS_START                          2.300000e+01\n",
       "REG_REGION_NOT_LIVE_REGION                       1.000000e+00\n",
       "REG_REGION_NOT_WORK_REGION                       1.000000e+00\n",
       "LIVE_REGION_NOT_WORK_REGION                      1.000000e+00\n",
       "REG_CITY_NOT_LIVE_CITY                           1.000000e+00\n",
       "REG_CITY_NOT_WORK_CITY                           1.000000e+00\n",
       "LIVE_CITY_NOT_WORK_CITY                          1.000000e+00\n",
       "EXT_SOURCE_1                                     9.626928e-01\n",
       "EXT_SOURCE_2                                     8.549997e-01\n",
       "EXT_SOURCE_3                                     8.960095e-01\n",
       "APARTMENTS_AVG                                   1.000000e+00\n",
       "BASEMENTAREA_AVG                                 1.000000e+00\n",
       "YEARS_BEGINEXPLUATATION_AVG                      1.000000e+00\n",
       "YEARS_BUILD_AVG                                  1.000000e+00\n",
       "COMMONAREA_AVG                                   1.000000e+00\n",
       "ELEVATORS_AVG                                    1.000000e+00\n",
       "ENTRANCES_AVG                                    1.000000e+00\n",
       "FLOORSMAX_AVG                                    1.000000e+00\n",
       "FLOORSMIN_AVG                                    1.000000e+00\n",
       "LANDAREA_AVG                                     1.000000e+00\n",
       "LIVINGAPARTMENTS_AVG                             1.000000e+00\n",
       "LIVINGAREA_AVG                                   1.000000e+00\n",
       "NONLIVINGAPARTMENTS_AVG                          1.000000e+00\n",
       "NONLIVINGAREA_AVG                                1.000000e+00\n",
       "APARTMENTS_MODE                                  1.000000e+00\n",
       "BASEMENTAREA_MODE                                1.000000e+00\n",
       "YEARS_BEGINEXPLUATATION_MODE                     1.000000e+00\n",
       "YEARS_BUILD_MODE                                 1.000000e+00\n",
       "COMMONAREA_MODE                                  1.000000e+00\n",
       "ELEVATORS_MODE                                   1.000000e+00\n",
       "ENTRANCES_MODE                                   1.000000e+00\n",
       "FLOORSMAX_MODE                                   1.000000e+00\n",
       "FLOORSMIN_MODE                                   1.000000e+00\n",
       "LANDAREA_MODE                                    1.000000e+00\n",
       "LIVINGAPARTMENTS_MODE                            1.000000e+00\n",
       "LIVINGAREA_MODE                                  1.000000e+00\n",
       "NONLIVINGAPARTMENTS_MODE                         1.000000e+00\n",
       "NONLIVINGAREA_MODE                               1.000000e+00\n",
       "APARTMENTS_MEDI                                  1.000000e+00\n",
       "BASEMENTAREA_MEDI                                1.000000e+00\n",
       "YEARS_BEGINEXPLUATATION_MEDI                     1.000000e+00\n",
       "YEARS_BUILD_MEDI                                 1.000000e+00\n",
       "COMMONAREA_MEDI                                  1.000000e+00\n",
       "ELEVATORS_MEDI                                   1.000000e+00\n",
       "ENTRANCES_MEDI                                   1.000000e+00\n",
       "FLOORSMAX_MEDI                                   1.000000e+00\n",
       "FLOORSMIN_MEDI                                   1.000000e+00\n",
       "LANDAREA_MEDI                                    1.000000e+00\n",
       "LIVINGAPARTMENTS_MEDI                            1.000000e+00\n",
       "LIVINGAREA_MEDI                                  1.000000e+00\n",
       "NONLIVINGAPARTMENTS_MEDI                         1.000000e+00\n",
       "NONLIVINGAREA_MEDI                               1.000000e+00\n",
       "TOTALAREA_MODE                                   1.000000e+00\n",
       "EMERGENCYSTATE_MODE                              1.000000e+00\n",
       "OBS_30_CNT_SOCIAL_CIRCLE                         3.480000e+02\n",
       "DEF_30_CNT_SOCIAL_CIRCLE                         3.400000e+01\n",
       "OBS_60_CNT_SOCIAL_CIRCLE                         3.440000e+02\n",
       "DEF_60_CNT_SOCIAL_CIRCLE                         2.400000e+01\n",
       "DAYS_LAST_PHONE_CHANGE                           0.000000e+00\n",
       "AMT_REQ_CREDIT_BUREAU_HOUR                       4.000000e+00\n",
       "AMT_REQ_CREDIT_BUREAU_DAY                        9.000000e+00\n",
       "AMT_REQ_CREDIT_BUREAU_WEEK                       8.000000e+00\n",
       "AMT_REQ_CREDIT_BUREAU_MON                        2.700000e+01\n",
       "AMT_REQ_CREDIT_BUREAU_QRT                        2.610000e+02\n",
       "AMT_REQ_CREDIT_BUREAU_YEAR                       2.500000e+01\n",
       "DAYS_EMPLOYED_ANOM                               1.000000e+00\n",
       "NAME_TYPE_SUITE_Children                         1.000000e+00\n",
       "NAME_TYPE_SUITE_Family                           1.000000e+00\n",
       "NAME_TYPE_SUITE_Group of people                  1.000000e+00\n",
       "NAME_TYPE_SUITE_Other_A                          1.000000e+00\n",
       "NAME_TYPE_SUITE_Other_B                          1.000000e+00\n",
       "NAME_TYPE_SUITE_Spouse, partner                  1.000000e+00\n",
       "NAME_TYPE_SUITE_Unaccompanied                    1.000000e+00\n",
       "NAME_TYPE_SUITE_unknown                          1.000000e+00\n",
       "NAME_INCOME_TYPE_Businessman                     1.000000e+00\n",
       "NAME_INCOME_TYPE_Commercial associate            1.000000e+00\n",
       "NAME_INCOME_TYPE_Pensioner                       1.000000e+00\n",
       "NAME_INCOME_TYPE_State servant                   1.000000e+00\n",
       "NAME_INCOME_TYPE_Student                         1.000000e+00\n",
       "NAME_INCOME_TYPE_Unemployed                      1.000000e+00\n",
       "NAME_INCOME_TYPE_Working                         1.000000e+00\n",
       "WEEKDAY_APPR_PROCESS_START_FRIDAY                1.000000e+00\n",
       "WEEKDAY_APPR_PROCESS_START_MONDAY                1.000000e+00\n",
       "WEEKDAY_APPR_PROCESS_START_SATURDAY              1.000000e+00\n",
       "WEEKDAY_APPR_PROCESS_START_SUNDAY                1.000000e+00\n",
       "WEEKDAY_APPR_PROCESS_START_THURSDAY              1.000000e+00\n",
       "WEEKDAY_APPR_PROCESS_START_TUESDAY               1.000000e+00\n",
       "WEEKDAY_APPR_PROCESS_START_WEDNESDAY             1.000000e+00\n",
       "HOUSETYPE_MODE_block of flats                    1.000000e+00\n",
       "HOUSETYPE_MODE_specific housing                  1.000000e+00\n",
       "HOUSETYPE_MODE_terraced house                    1.000000e+00\n",
       "EMPLOYED_TO_BIRTH_RATIO                          7.288115e-01\n",
       "CREDIT_TO_INCOME_RATIO                           8.473684e+01\n",
       "CREDIT_TO_ANNUITY_RATIO                          5.956035e+01\n",
       "CREDIT_TO_GOODS_RATIO                            6.000000e+00\n",
       "ANNUITY_TO_INCOME_RATIO                          1.875965e+00\n",
       "INCOME_PERPERSON                                 3.900000e+07\n",
       "CREDIT_PERPERSON                                 4.031032e+06\n",
       "INCOME_MINUS_CREDIT_PERPERSON                    3.881250e+07\n",
       "CARAGE_TO_BIRTH_RATIO                           -0.000000e+00\n",
       "PHONETO_BIRTH_RATIO                              3.613653e-01\n",
       "OBS_30_DEFAULT_RATIO                             1.000000e+00\n",
       "bureau_NUMBER_PAST_LOANS                         1.160000e+02\n",
       "bureau_NUMBER_LOAN_TYPES                         6.000000e+00\n",
       "bureau_PASTLOANS_PER_TYPE_RATIO                  5.000000e+01\n",
       "bureau_AMT_CREDIT_SUM_LIMIT_sum                  8.129328e+06\n",
       "bureau_AMT_CREDIT_SUM_LIMIT_max                  4.705600e+06\n",
       "bureau_AMT_CREDIT_SUM_LIMIT_min                  1.755000e+06\n",
       "bureau_AMT_CREDIT_SUM_LIMIT_var                  6.750000e+12\n",
       "bureau_AMT_CREDIT_SUM_OVERDUE_sum                3.756681e+06\n",
       "bureau_AMT_CREDIT_SUM_OVERDUE_max                3.756681e+06\n",
       "bureau_AMT_CREDIT_SUM_OVERDUE_min                1.617404e+06\n",
       "bureau_AMT_CREDIT_SUM_OVERDUE_var                3.528163e+12\n",
       "bureau_AMT_CREDIT_SUM_OVERDUE_mean               1.617404e+06\n",
       "bb_STATUS_C_PERCENT_mean                         1.000000e+00\n",
       "bb_STATUS_C_PERCENT_max                          1.000000e+00\n",
       "bb_STATUS_C_PERCENT_min                          1.000000e+00\n",
       "bb_STATUS_C_PERCENT_var                          5.000000e-01\n",
       "bureau_CREDIT_TYPE_Microloan_sum                 7.900000e+01\n",
       "bureau_DAYS_CREDIT_UPDATE_mean                   1.400000e+01\n",
       "bureau_DAYS_CREDIT_UPDATE_max                    3.720000e+02\n",
       "bureau_DAYS_CREDIT_UPDATE_min                    1.400000e+01\n",
       "bureau_DAYS_CREDIT_UPDATE_var                    8.768834e+08\n",
       "bureau_CREDIT_TYPE_Credit card_sum               2.200000e+01\n",
       "bureau_CREDIT_ENDDATE_FLAG_sum                   3.000000e+01\n",
       "bureau_CREDIT_ENDDATE_FLAG_mean                  1.000000e+00\n",
       "bb_STATUS_1_PERCENT_mean                         8.333333e-01\n",
       "bb_STATUS_1_PERCENT_max                          1.000000e+00\n",
       "bb_STATUS_1_PERCENT_min                          8.333333e-01\n",
       "bb_STATUS_1_PERCENT_var                          2.812500e-01\n",
       "bb_STATUS_X_PERCENT_mean                         1.000000e+00\n",
       "bb_STATUS_X_PERCENT_max                          1.000000e+00\n",
       "bb_STATUS_X_PERCENT_min                          1.000000e+00\n",
       "bb_STATUS_X_PERCENT_var                          5.000000e-01\n",
       "bureau_DAYS_CREDIT_mean                          0.000000e+00\n",
       "bureau_DAYS_CREDIT_max                           0.000000e+00\n",
       "bureau_DAYS_CREDIT_min                           0.000000e+00\n",
       "bureau_DAYS_CREDIT_var                           4.173160e+06\n",
       "bureau_AMT_CREDIT_MAX_OVERDUE_mean               4.740612e+07\n",
       "bureau_AMT_CREDIT_MAX_OVERDUE_max                1.159872e+08\n",
       "bureau_AMT_CREDIT_MAX_OVERDUE_min                1.695001e+07\n",
       "bureau_AMT_CREDIT_MAX_OVERDUE_var                4.494681e+15\n",
       "bureau_AMT_CREDIT_SUM_sum                        1.017958e+09\n",
       "bureau_AMT_CREDIT_SUM_max                        3.960000e+08\n",
       "bureau_AMT_CREDIT_SUM_min                        1.422900e+08\n",
       "bureau_AMT_CREDIT_SUM_var                        7.835071e+16\n",
       "bureau_AMT_CREDIT_SUM_mean                       1.980723e+08\n",
       "bureau_DAYS_CREDIT_ENDDATE_mean                  3.119800e+04\n",
       "bureau_DAYS_CREDIT_ENDDATE_max                   3.119900e+04\n",
       "bureau_DAYS_CREDIT_ENDDATE_min                   3.119800e+04\n",
       "bureau_DAYS_CREDIT_ENDDATE_var                   1.499110e+09\n",
       "bureau_AMT_ANNUITY_sum                           6.850427e+07\n",
       "bureau_AMT_ANNUITY_mean                          2.728243e+07\n",
       "bureau_AMT_ANNUITY_max                           5.958668e+07\n",
       "bureau_AMT_ANNUITY_min                           2.401604e+07\n",
       "bureau_AMT_ANNUITY_var                           1.488422e+15\n",
       "bureau_AMT_CREDIT_SUM_DEBT_sum                   3.344983e+08\n",
       "bureau_AMT_CREDIT_SUM_DEBT_mean                  4.365000e+07\n",
       "bureau_AMT_CREDIT_SUM_DEBT_max                   1.701000e+08\n",
       "bureau_AMT_CREDIT_SUM_DEBT_min                   4.365000e+07\n",
       "bureau_AMT_CREDIT_SUM_DEBT_var                   2.775100e+15\n",
       "bureau_CREDIT_ACTIVE_FLAG_sum                    3.200000e+01\n",
       "bureau_CREDIT_ACTIVE_FLAG_mean                   1.000000e+00\n",
       "bb_MONTHS_BALANCE_size_max                       9.700000e+01\n",
       "bb_MONTHS_BALANCE_size_var                       4.418000e+03\n",
       "bb_MONTHS_BALANCE_size_sum                       2.657000e+03\n",
       "bb_MONTHS_BALANCE_size_mean                      9.700000e+01\n",
       "bureau_CREDIT_MINUS_OVERDUE                      1.980723e+08\n",
       "bureau_MONTHSBALANCE_DIVIDEDBY_DAYSCREDIT       -3.813883e-04\n",
       "cash_CONTRACT_STATUS_ACTIVE_sum                  2.100000e+01\n",
       "cash_FUTURE_RATIO_min                            3.000000e+00\n",
       "cash_CNT_INSTALMENT_FUTURE_mean                  7.200000e+01\n",
       "cash_CNT_INSTALMENT_FUTURE_max                   8.000000e+01\n",
       "cash_CNT_INSTALMENT_FUTURE_min                   7.200000e+01\n",
       "cash_MONTHS_BALANCE_min                         -1.000000e+00\n",
       "cash_MONTHS_BALANCE_mean                        -1.000000e+00\n",
       "cash_CNT_INSTALMENT_max                          8.400000e+01\n",
       "cash_CNT_INSTALMENT_mean                         7.200000e+01\n",
       "cash_SK_DPD_late_mean                            1.000000e+00\n",
       "cash_SK_DPD_late_max                             1.000000e+00\n",
       "cc_AMT_DRAWINGS_CURRENT_mean                     1.125000e+06\n",
       "cc_AMT_DRAWINGS_CURRENT_max                      2.115000e+06\n",
       "cc_AMT_DRAWINGS_CURRENT_min                      1.125000e+06\n",
       "cc_AMT_BALANCE_mean                              9.286863e+05\n",
       "cc_AMT_BALANCE_max                               1.354829e+06\n",
       "cc_AMT_BALANCE_min                               8.698735e+05\n",
       "cc_SK_DPD_DEF_mean                               1.309600e+03\n",
       "cc_SK_DPD_DEF_max                                2.800000e+03\n",
       "cc_SK_DPD_DEF_min                                0.000000e+00\n",
       "cc_AMT_DRAWINGS_ATM_CURRENT_mean                 6.750000e+05\n",
       "cc_AMT_DRAWINGS_ATM_CURRENT_max                  2.115000e+06\n",
       "cc_AMT_DRAWINGS_ATM_CURRENT_min                  6.750000e+05\n",
       "cc_AMT_INST_MIN_REGULARITY_mean                  4.216186e+04\n",
       "cc_AMT_INST_MIN_REGULARITY_max                   2.028820e+05\n",
       "cc_AMT_INST_MIN_REGULARITY_min                   1.334101e+04\n",
       "cc_AMT_CREDIT_LIMIT_ACTUAL_mean                  1.350000e+06\n",
       "cc_AMT_CREDIT_LIMIT_ACTUAL_max                   1.350000e+06\n",
       "cc_AMT_CREDIT_LIMIT_ACTUAL_min                   1.350000e+06\n",
       "cc_CNT_INSTALMENT_MATURE_CUM_mean                7.306250e+01\n",
       "cc_CNT_INSTALMENT_MATURE_CUM_max                 1.200000e+02\n",
       "cc_CNT_INSTALMENT_MATURE_CUM_min                 2.700000e+01\n",
       "cc_MONTHS_BALANCE_min                           -1.000000e+00\n",
       "cc_MONTHS_BALANCE_max                           -1.000000e+00\n",
       "cc_MONTHS_BALANCE_mean                          -1.000000e+00\n",
       "cc_AMT_RECEIVABLE_PRINCIPAL_mean                 8.845479e+05\n",
       "cc_AMT_RECEIVABLE_PRINCIPAL_max                  1.354829e+06\n",
       "cc_AMT_RECEIVABLE_PRINCIPAL_min                  8.540431e+05\n",
       "cc_AMT_TOTAL_RECEIVABLE_mean                     9.130966e+05\n",
       "cc_AMT_TOTAL_RECEIVABLE_max                      1.354829e+06\n",
       "cc_AMT_TOTAL_RECEIVABLE_min                      8.555659e+05\n",
       "cc_AMT_DRAWINGS_OTHER_CURRENT_mean               1.878088e+05\n",
       "cc_AMT_DRAWINGS_OTHER_CURRENT_max                1.529847e+06\n",
       "cc_AMT_DRAWINGS_OTHER_CURRENT_min                1.125000e+05\n",
       "cc_ATM_TO_TOTALDRAW_RATIO                        1.000000e+00\n",
       "prevapp_AMT_ANNUITY_mean                         2.903580e+05\n",
       "prevapp_AMT_ANNUITY_max                          4.180581e+05\n",
       "prevapp_AMT_ANNUITY_min                          2.903580e+05\n",
       "prevapp_AMT_ANNUITY_var                          5.299442e+10\n",
       "prevapp_AMT_DOWN_PAYMENT_max                     3.060045e+06\n",
       "prevapp_AMT_DOWN_PAYMENT_mean                    1.980000e+06\n",
       "prevapp_AMT_DOWN_PAYMENT_min                     1.980000e+06\n",
       "prevapp_CODE_REJECT_REASON_HC_sum                5.800000e+01\n",
       "prevapp_DAYS_FIRST_DUE_mean                      0.000000e+00\n",
       "prevapp_DAYS_FIRST_DUE_max                       0.000000e+00\n",
       "prevapp_DAYS_FIRST_DUE_min                       0.000000e+00\n",
       "prevapp_NAME_CONTRACT_STATUS_Canceled_sum        5.800000e+01\n",
       "prevapp_NAME_YIELD_GROUP_low_action_sum          2.300000e+01\n",
       "prevapp_NAME_YIELD_GROUP_low_action_mean         1.000000e+00\n",
       "prevapp_NAME_PRODUCT_TYPE_x-sell_sum             5.100000e+01\n",
       "prevapp_NAME_PRODUCT_TYPE_x-sell_mean            1.000000e+00\n",
       "prevapp_AMT_APPLICATION_mean                     4.050000e+06\n",
       "prevapp_AMT_APPLICATION_max                      5.850000e+06\n",
       "prevapp_AMT_APPLICATION_min                      4.050000e+06\n",
       "prevapp_AMT_APPLICATION_var                      8.488800e+12\n",
       "prevapp_DAYS_FIRST_DRAWING_mean                  0.000000e+00\n",
       "prevapp_DAYS_FIRST_DRAWING_max                   0.000000e+00\n",
       "prevapp_DAYS_FIRST_DRAWING_min                   0.000000e+00\n",
       "prevapp_DAYS_TERMINATION_mean                    0.000000e+00\n",
       "prevapp_DAYS_TERMINATION_max                     0.000000e+00\n",
       "prevapp_DAYS_TERMINATION_min                     0.000000e+00\n",
       "prevapp_NAME_CONTRACT_TYPE_Consumer loans_sum    4.500000e+01\n",
       "prevapp_DAYS_LAST_DUE_max                        0.000000e+00\n",
       "prevapp_DAYS_LAST_DUE_mean                       0.000000e+00\n",
       "prevapp_DAYS_LAST_DUE_var                        4.158728e+06\n",
       "prevapp_DAYS_LAST_DUE_1ST_VERSION_mean           1.797000e+03\n",
       "prevapp_DAYS_LAST_DUE_1ST_VERSION_max            2.389000e+03\n",
       "prevapp_DAYS_LAST_DUE_1ST_VERSION_min            1.797000e+03\n",
       "prevapp_NAME_PRODUCT_TYPE_walk-in_sum            4.200000e+01\n",
       "prevapp_NAME_PRODUCT_TYPE_walk-in_mean           1.000000e+00\n",
       "prevapp_ASKED_MINUS_CREDITGIVEN_max              3.020450e+06\n",
       "prevapp_ASKED_MINUS_CREDITGIVEN_mean             1.980000e+06\n",
       "prevapp_ASKED_MINUS_CREDITGIVEN_min              1.980000e+06\n",
       "prevapp_NAME_YIELD_GROUP_middle_sum              5.200000e+01\n",
       "prevapp_NAME_YIELD_GROUP_middle_mean             1.000000e+00\n",
       "prevapp_AMT_CREDIT_min                           4.050000e+06\n",
       "prevapp_AMT_CREDIT_mean                          4.050000e+06\n",
       "prevapp_AMT_CREDIT_max                           4.509688e+06\n",
       "prevapp_RATE_DOWN_PAYMENT_max                    1.000000e+00\n",
       "prevapp_RATE_DOWN_PAYMENT_min                    8.712727e-01\n",
       "prevapp_CREDIT_MINUS_GOODSPRICE_mean             1.350000e+06\n",
       "prevapp_CREDIT_MINUS_GOODSPRICE_max              1.350000e+06\n",
       "prevapp_CREDIT_MINUS_GOODSPRICE_min              1.350000e+06\n",
       "prevapp_CNT_PAYMENT_mean                         7.200000e+01\n",
       "prevapp_CNT_PAYMENT_max                          8.400000e+01\n",
       "prevapp_CNT_PAYMENT_min                          7.200000e+01\n",
       "prevapp_DAYS_DECISION_max                       -1.000000e+00\n",
       "prevapp_DAYS_DECISION_mean                      -2.000000e+00\n",
       "prevapp_NAME_YIELD_GROUP_high_sum                3.800000e+01\n",
       "prevapp_NAME_YIELD_GROUP_high_mean               1.000000e+00\n",
       "prevapp_CNT_PAYMENT_sum_APPROVED                 5.280000e+02\n",
       "prevapp_AMT_CREDIT_min_APPROVED                  4.050000e+06\n",
       "installpay_DAYS_LATE_FLAG_sum                    1.610000e+02\n",
       "installpay_DAYS_LATE_FLAG_mean                   1.000000e+00\n",
       "installpay_BALANCE_DUE_mean                      3.374968e+05\n",
       "installpay_BALANCE_DUE_max                       2.630909e+06\n",
       "installpay_BALANCE_DUE_min                       3.899106e+04\n",
       "installpay_BALANCE_DUE_var                       4.459936e+11\n",
       "installpay_DAYS_LATE_sum                         0.000000e+00\n",
       "installpay_DAYS_LATE_max                         0.000000e+00\n",
       "installpay_DAYS_LATE_min                         0.000000e+00\n",
       "installpay_DAYS_LATE_var                         3.956484e+06\n",
       "installpay_PAID_OVER_FLAG_sum                    6.400000e+01\n",
       "installpay_PAID_OVER_FLAG_mean                   1.000000e+00\n",
       "installpay_AMT_PAYMENT_sum                       2.553705e+07\n",
       "installpay_AMT_PAYMENT_mean                      2.504590e+06\n",
       "installpay_AMT_PAYMENT_max                       3.771488e+06\n",
       "installpay_AMT_PAYMENT_min                       2.504590e+06\n",
       "installpay_AMT_PAYMENT_var                       2.436698e+12\n",
       "installpay_PAID_OVER_AMOUNT_mean                 3.374968e+05\n",
       "installpay_PAID_OVER_AMOUNT_max                  2.630909e+06\n",
       "installpay_PAID_OVER_AMOUNT_min                  3.899106e+04\n",
       "installpay_DAYS_DELTA_mean                       2.950000e+02\n",
       "installpay_DAYS_DELTA_max                        3.189000e+03\n",
       "installpay_DAYS_DELTA_min                        1.560000e+02\n",
       "installpay_DAYS_DELTA_var                        3.959298e+06\n",
       "LDA_0                                            7.505252e-01\n",
       "dtype: float64"
      ]
     },
     "execution_count": 26,
     "metadata": {},
     "output_type": "execute_result"
    },
    {
     "name": "stdout",
     "output_type": "stream",
     "text": [
      "time: 1.17 s\n"
     ]
    }
   ],
   "source": [
    "# look for infinities\n",
    "pd.options.display.max_rows = 4000\n",
    "train_X.max()"
   ]
  },
  {
   "cell_type": "code",
   "execution_count": 27,
   "metadata": {
    "collapsed": false
   },
   "outputs": [
    {
     "name": "stdout",
     "output_type": "stream",
     "text": [
      "time: 2.42 s\n"
     ]
    }
   ],
   "source": [
    "scaler = StandardScaler()\n",
    "scaler.fit(train_X)\n",
    "\n",
    "train_X = scaler.transform(train_X)\n",
    "test_X = scaler.transform(test_X)"
   ]
  },
  {
   "cell_type": "markdown",
   "metadata": {},
   "source": [
    "### Build Model Using LightGBM"
   ]
  },
  {
   "cell_type": "code",
   "execution_count": 28,
   "metadata": {
    "collapsed": false
   },
   "outputs": [
    {
     "name": "stdout",
     "output_type": "stream",
     "text": [
      "Fold 1 AUC : 0.786785\n",
      "Fold 2 AUC : 0.786691\n",
      "Fold 3 AUC : 0.790867\n",
      "Fold 4 AUC : 0.791510\n",
      "Fold 5 AUC : 0.787496\n",
      "time: 49min 25s\n"
     ]
    }
   ],
   "source": [
    "# number of fold cross validation\n",
    "n_folds = 5 #set the number of folds for K-fold validation (better at 10 but training takes to long)\n",
    "folds = KFold(n_splits=n_folds, shuffle=True, random_state=50)\n",
    "\n",
    "# Empty arrays and lists\n",
    "feature_importance = np.zeros(len(feature_names))\n",
    "train_preds = np.zeros(train_X.shape[0])\n",
    "valid_preds = np.zeros(train_X.shape[0])\n",
    "test_preds = np.zeros(test_X.shape[0])\n",
    "valid_scores = []\n",
    "train_scores = []\n",
    "\n",
    "# Iterate through each fold\n",
    "for n_fold, (train_indices, valid_indices) in enumerate(folds.split(train_X)):\n",
    "    # Training data for the fold\n",
    "    train_fold, train_fold_labels = train_X[train_indices, :], train_X_labels[train_indices]\n",
    "    \n",
    "    # Validation data for the fold\n",
    "    valid_fold, valid_fold_labels = train_X[valid_indices, :], train_X_labels[valid_indices]\n",
    "    \n",
    "    # LightGBM classifier with hyperparameters\n",
    "    model = LGBMClassifier(\n",
    "        n_estimators=10000,  #num trees to fit, generalizes model better with more trees, longer training\n",
    "        \n",
    "        learning_rate=0.01,  #default is .1, lower generalize well but longer training. impact each tree on final outcome\n",
    "        subsample=.8,\n",
    "        num_leaves=34,\n",
    "        max_depth=6,  #recommend 4-8, lower this if you think model is over fitting\n",
    "        min_data_in_leaf=200,  #too low results in overfitting, high underfitting (fit accuracy)\n",
    "        reg_alpha=.04, #changed from .1, these should complement - one high and one low\n",
    "        reg_lambda=.07,  #changed from .1, typically 0 to 1\n",
    "        min_split_gain=.03, #control number of useful splits in tree\n",
    "        min_child_weight=1.5,\n",
    "        max_bin=1000   #num buckets, higher more accuracy but slower training and may overfit, results similar at 1200, \n",
    "        )\n",
    "    \n",
    "    # Fit on the training data, evaluate on the validation data\n",
    "    model.fit(train_fold, train_fold_labels, \n",
    "            eval_metric=('auc'), #can also do error, mae (mean absolute error), mse (mean squared error), multi-logloss\n",
    "            eval_set = [(train_fold, train_fold_labels), (valid_fold, valid_fold_labels)], \n",
    "            early_stopping_rounds=100, #reduces number iterations\n",
    "            verbose = False\n",
    "            )\n",
    "    \n",
    "    # Validation preditions\n",
    "    train_preds[train_indices] = model.predict_proba(train_fold, num_iteration=model.best_iteration_)[:, 1]\n",
    "    valid_preds[valid_indices] = model.predict_proba(valid_fold, num_iteration=model.best_iteration_)[:, 1]\n",
    "    \n",
    "    # Testing predictions\n",
    "    test_preds += model.predict_proba(test_X, num_iteration=model.best_iteration_)[:, 1] / folds.n_splits\n",
    "    predictions = test_preds.copy()\n",
    "    \n",
    "    # Display the performance for the current fold\n",
    "    print('Fold %d AUC : %0.6f' % (n_fold + 1, roc_auc_score(valid_fold_labels, valid_preds[valid_indices])))"
   ]
  },
  {
   "cell_type": "markdown",
   "metadata": {},
   "source": [
    "#### Metrics"
   ]
  },
  {
   "cell_type": "code",
   "execution_count": 29,
   "metadata": {
    "collapsed": false,
    "scrolled": true
   },
   "outputs": [
    {
     "name": "stdout",
     "output_type": "stream",
     "text": [
      " --------------- training data ------------------\n",
      "\n",
      "data accuracy score:  0.92575474881\n",
      "\n",
      "confusion matrix:\n",
      "        0     1\n",
      "0  225888   354\n",
      "1   17911  1856\n",
      "\n",
      "classification report: \n",
      "             precision    recall  f1-score   support\n",
      "\n",
      "          0       0.93      1.00      0.96    226242\n",
      "          1       0.84      0.09      0.17     19767\n",
      "\n",
      "avg / total       0.92      0.93      0.90    246009\n",
      "\n",
      " --------------- validation data ------------------\n",
      "\n",
      "data accuracy score:  0.919140840948\n",
      "\n",
      "confusion matrix:\n",
      "       0    1\n",
      "0  56253  191\n",
      "1   4782  276\n",
      "\n",
      "classification report: \n",
      "             precision    recall  f1-score   support\n",
      "\n",
      "          0       0.92      1.00      0.96     56444\n",
      "          1       0.59      0.05      0.10      5058\n",
      "\n",
      "avg / total       0.89      0.92      0.89     61502\n",
      "\n",
      "time: 431 ms\n"
     ]
    }
   ],
   "source": [
    "y_true = train_fold_labels\n",
    "y_pred = (train_preds[train_indices] > 0.5).astype(int)  \n",
    "cm = confusion_matrix(y_true, y_pred)\n",
    "\n",
    "print' --------------- training data ------------------'\n",
    "print\n",
    "print'data accuracy score: ', accuracy_score(y_true, y_pred)\n",
    "print\n",
    "print'confusion matrix:'\n",
    "print(pd.DataFrame(confusion_matrix(y_true, y_pred)))\n",
    "print\n",
    "print'classification report: '\n",
    "print(classification_report(y_true, y_pred))\n",
    "\n",
    "\n",
    "from sklearn.metrics import confusion_matrix, classification_report\n",
    "y_true = valid_fold_labels\n",
    "y_pred = (valid_preds[valid_indices] > 0.5).astype(int) \n",
    "\n",
    "print' --------------- validation data ------------------'\n",
    "print\n",
    "print'data accuracy score: ', accuracy_score(y_true, y_pred)\n",
    "print\n",
    "print'confusion matrix:'\n",
    "print(pd.DataFrame(confusion_matrix(y_true, y_pred)))\n",
    "print\n",
    "print'classification report: '\n",
    "print(classification_report(y_true, y_pred))"
   ]
  },
  {
   "cell_type": "markdown",
   "metadata": {},
   "source": [
    "#### Create Submission File"
   ]
  },
  {
   "cell_type": "code",
   "execution_count": 30,
   "metadata": {
    "collapsed": false
   },
   "outputs": [
    {
     "name": "stdout",
     "output_type": "stream",
     "text": [
      "              TARGET\n",
      "SK_ID_CURR          \n",
      "100001      0.027955\n",
      "100005      0.175067\n",
      "100013      0.027291\n",
      "100028      0.020273\n",
      "100038      0.099192\n",
      "time: 63 ms\n"
     ]
    }
   ],
   "source": [
    "submit = pd.DataFrame()\n",
    "submit['TARGET'] = predictions #connect id with prediction\n",
    "submit.index = test.index\n",
    "print submit.head() \n",
    "submit.to_csv('Predictions_LGBM_1.csv') "
   ]
  },
  {
   "cell_type": "markdown",
   "metadata": {},
   "source": [
    "### Measure Features"
   ]
  },
  {
   "cell_type": "markdown",
   "metadata": {},
   "source": [
    "#### Feature Importance"
   ]
  },
  {
   "cell_type": "code",
   "execution_count": 31,
   "metadata": {
    "collapsed": false
   },
   "outputs": [
    {
     "name": "stdout",
     "output_type": "stream",
     "text": [
      "('Number of features with importance greater than ', 10, ' = ', 282)\n",
      "                                           feature  importance\n",
      "115                        CREDIT_TO_ANNUITY_RATIO        2513\n",
      "30                                    EXT_SOURCE_2        2312\n",
      "31                                    EXT_SOURCE_3        2207\n",
      "29                                    EXT_SOURCE_1        2078\n",
      "305                     installpay_AMT_PAYMENT_sum        1731\n",
      "10                                      DAYS_BIRTH        1688\n",
      "317                                          LDA_0        1629\n",
      "13                                 DAYS_ID_PUBLISH        1402\n",
      "6                                      AMT_ANNUITY        1338\n",
      "121                          CARAGE_TO_BIRTH_RATIO        1163\n",
      "116                          CREDIT_TO_GOODS_RATIO        1097\n",
      "170                 bureau_DAYS_CREDIT_ENDDATE_max        1096\n",
      "267          prevapp_DAYS_LAST_DUE_1ST_VERSION_max        1089\n",
      "12                               DAYS_REGISTRATION        1065\n",
      "157                         bureau_DAYS_CREDIT_max        1011\n",
      "11                                   DAYS_EMPLOYED         972\n",
      "294                 installpay_DAYS_LATE_FLAG_mean         959\n",
      "113                        EMPLOYED_TO_BIRTH_RATIO         955\n",
      "9                       REGION_POPULATION_RELATIVE         953\n",
      "266         prevapp_DAYS_LAST_DUE_1ST_VERSION_mean         924\n",
      "308                     installpay_AMT_PAYMENT_min         911\n",
      "166                      bureau_AMT_CREDIT_SUM_min         888\n",
      "117                        ANNUITY_TO_INCOME_RATIO         868\n",
      "119                               CREDIT_PERPERSON         866\n",
      "309                     installpay_AMT_PAYMENT_var         815\n",
      "193                cash_CNT_INSTALMENT_FUTURE_mean         798\n",
      "236                       prevapp_AMT_ANNUITY_mean         773\n",
      "313                     installpay_DAYS_DELTA_mean         760\n",
      "306                    installpay_AMT_PAYMENT_mean         751\n",
      "168                     bureau_AMT_CREDIT_SUM_mean         738\n",
      "316                      installpay_DAYS_DELTA_var         737\n",
      "156                        bureau_DAYS_CREDIT_mean         734\n",
      "197                       cash_MONTHS_BALANCE_mean         717\n",
      "80                          DAYS_LAST_PHONE_CHANGE         716\n",
      "118                               INCOME_PERPERSON         704\n",
      "165                      bureau_AMT_CREDIT_SUM_max         702\n",
      "287                      prevapp_DAYS_DECISION_max         685\n",
      "122                            PHONETO_BIRTH_RATIO         685\n",
      "295                    installpay_BALANCE_DUE_mean         680\n",
      "179                bureau_AMT_CREDIT_SUM_DEBT_mean         677\n",
      "114                         CREDIT_TO_INCOME_RATIO         666\n",
      "292                prevapp_AMT_CREDIT_min_APPROVED         658\n",
      "120                  INCOME_MINUS_CREDIT_PERPERSON         644\n",
      "240                   prevapp_AMT_DOWN_PAYMENT_max         637\n",
      "172                 bureau_DAYS_CREDIT_ENDDATE_var         620\n",
      "284                       prevapp_CNT_PAYMENT_mean         619\n",
      "288                     prevapp_DAYS_DECISION_mean         616\n",
      "169                bureau_DAYS_CREDIT_ENDDATE_mean         605\n",
      "142                  bureau_DAYS_CREDIT_UPDATE_max         588\n",
      "7                                  AMT_GOODS_PRICE         585\n",
      "244                    prevapp_DAYS_FIRST_DUE_mean         571\n",
      "237                        prevapp_AMT_ANNUITY_max         570\n",
      "171                 bureau_DAYS_CREDIT_ENDDATE_min         565\n",
      "164                      bureau_AMT_CREDIT_SUM_sum         557\n",
      "5                                       AMT_CREDIT         552\n",
      "279                  prevapp_RATE_DOWN_PAYMENT_max         551\n",
      "265                      prevapp_DAYS_LAST_DUE_var         542\n",
      "314                      installpay_DAYS_DELTA_max         523\n",
      "302                       installpay_DAYS_LATE_var         517\n",
      "307                     installpay_AMT_PAYMENT_max         515\n",
      "144                  bureau_DAYS_CREDIT_UPDATE_var         512\n",
      "290             prevapp_NAME_YIELD_GROUP_high_mean         511\n",
      "239                        prevapp_AMT_ANNUITY_var         507\n",
      "199                       cash_CNT_INSTALMENT_mean         492\n",
      "196                        cash_MONTHS_BALANCE_min         491\n",
      "241                  prevapp_AMT_DOWN_PAYMENT_mean         487\n",
      "143                  bureau_DAYS_CREDIT_UPDATE_min         476\n",
      "297                     installpay_BALANCE_DUE_min         472\n",
      "158                         bureau_DAYS_CREDIT_min         471\n",
      "211               cc_AMT_DRAWINGS_ATM_CURRENT_mean         471\n",
      "141                 bureau_DAYS_CREDIT_UPDATE_mean         459\n",
      "178                 bureau_AMT_CREDIT_SUM_DEBT_sum         459\n",
      "255                    prevapp_AMT_APPLICATION_var         458\n",
      "159                         bureau_DAYS_CREDIT_var         453\n",
      "167                      bureau_AMT_CREDIT_SUM_var         430\n",
      "184                 bureau_CREDIT_ACTIVE_FLAG_mean         426\n",
      "271            prevapp_ASKED_MINUS_CREDITGIVEN_max         426\n",
      "272           prevapp_ASKED_MINUS_CREDITGIVEN_mean         424\n",
      "275           prevapp_NAME_YIELD_GROUP_middle_mean         422\n",
      "182                 bureau_AMT_CREDIT_SUM_DEBT_var         418\n",
      "74                                  TOTALAREA_MODE         413\n",
      "160             bureau_AMT_CREDIT_MAX_OVERDUE_mean         406\n",
      "277                        prevapp_AMT_CREDIT_mean         403\n",
      "261                   prevapp_DAYS_TERMINATION_min         398\n",
      "4                                 AMT_INCOME_TOTAL         388\n",
      "298                     installpay_BALANCE_DUE_var         384\n",
      "252                   prevapp_AMT_APPLICATION_mean         384\n",
      "194                 cash_CNT_INSTALMENT_FUTURE_max         380\n",
      "243              prevapp_CODE_REJECT_REASON_HC_sum         377\n",
      "273            prevapp_ASKED_MINUS_CREDITGIVEN_min         375\n",
      "190      bureau_MONTHSBALANCE_DIVIDEDBY_DAYSCREDIT         368\n",
      "1                                      CODE_GENDER         367\n",
      "22                         HOUR_APPR_PROCESS_START         366\n",
      "246                     prevapp_DAYS_FIRST_DUE_min         361\n",
      "136                       bb_STATUS_C_PERCENT_mean         355\n",
      "268          prevapp_DAYS_LAST_DUE_1ST_VERSION_min         349\n",
      "278                         prevapp_AMT_CREDIT_max         345\n",
      "192                          cash_FUTURE_RATIO_min         344\n",
      "202                   cc_AMT_DRAWINGS_CURRENT_mean         343\n",
      "217                cc_AMT_CREDIT_LIMIT_ACTUAL_mean         340\n",
      "291               prevapp_CNT_PAYMENT_sum_APPROVED         339\n",
      "264                     prevapp_DAYS_LAST_DUE_mean         337\n",
      "270         prevapp_NAME_PRODUCT_TYPE_walk-in_mean         332\n",
      "200                          cash_SK_DPD_late_mean         316\n",
      "161              bureau_AMT_CREDIT_MAX_OVERDUE_max         313\n",
      "187                     bb_MONTHS_BALANCE_size_sum         303\n",
      "282            prevapp_CREDIT_MINUS_GOODSPRICE_max         299\n",
      "253                    prevapp_AMT_APPLICATION_max         292\n",
      "146                 bureau_CREDIT_ENDDATE_FLAG_sum         289\n",
      "180                 bureau_AMT_CREDIT_SUM_DEBT_max         287\n",
      "249       prevapp_NAME_YIELD_GROUP_low_action_mean         280\n",
      "2                                     FLAG_OWN_CAR         277\n",
      "259                  prevapp_DAYS_TERMINATION_mean         277\n",
      "188                    bb_MONTHS_BALANCE_size_mean         276\n",
      "283            prevapp_CREDIT_MINUS_GOODSPRICE_min         274\n",
      "186                     bb_MONTHS_BALANCE_size_var         271\n",
      "152                       bb_STATUS_X_PERCENT_mean         266\n",
      "57                                 LIVINGAREA_MODE         262\n",
      "183                  bureau_CREDIT_ACTIVE_FLAG_sum         261\n",
      "281           prevapp_CREDIT_MINUS_GOODSPRICE_mean         260\n",
      "21                     REGION_RATING_CLIENT_W_CITY         250\n",
      "299                       installpay_DAYS_LATE_sum         243\n",
      "139                        bb_STATUS_C_PERCENT_var         240\n",
      "220              cc_CNT_INSTALMENT_MATURE_CUM_mean         239\n",
      "238                        prevapp_AMT_ANNUITY_min         238\n",
      "8                              NAME_EDUCATION_TYPE         229\n",
      "251          prevapp_NAME_PRODUCT_TYPE_x-sell_mean         228\n",
      "78                        OBS_60_CNT_SOCIAL_CIRCLE         227\n",
      "191                cash_CONTRACT_STATUS_ACTIVE_sum         226\n",
      "16                                 FLAG_WORK_PHONE         224\n",
      "43                                  LIVINGAREA_AVG         223\n",
      "137                        bb_STATUS_C_PERCENT_max         223\n",
      "147                bureau_CREDIT_ENDDATE_FLAG_mean         222\n",
      "276                         prevapp_AMT_CREDIT_min         218\n",
      "163              bureau_AMT_CREDIT_MAX_OVERDUE_var         217\n",
      "181                 bureau_AMT_CREDIT_SUM_DEBT_min         214\n",
      "123                           OBS_30_DEFAULT_RATIO         212\n",
      "315                      installpay_DAYS_DELTA_min         209\n",
      "235                      cc_ATM_TO_TOTALDRAW_RATIO         209\n",
      "212                cc_AMT_DRAWINGS_ATM_CURRENT_max         208\n",
      "205                            cc_AMT_BALANCE_mean         208\n",
      "41                                    LANDAREA_AVG         205\n",
      "155                        bb_STATUS_X_PERCENT_var         205\n",
      "59                              NONLIVINGAREA_MODE         202\n",
      "76                        OBS_30_CNT_SOCIAL_CIRCLE         200\n",
      "55                                   LANDAREA_MODE         199\n",
      "285                        prevapp_CNT_PAYMENT_max         198\n",
      "48                    YEARS_BEGINEXPLUATATION_MODE         198\n",
      "60                                 APARTMENTS_MEDI         192\n",
      "124                       bureau_NUMBER_PAST_LOANS         180\n",
      "62                    YEARS_BEGINEXPLUATATION_MEDI         180\n",
      "219                 cc_AMT_CREDIT_LIMIT_ACTUAL_min         177\n",
      "206                             cc_AMT_BALANCE_max         176\n",
      "280                  prevapp_RATE_DOWN_PAYMENT_min         176\n",
      "126                bureau_PASTLOANS_PER_TYPE_RATIO         174\n",
      "254                    prevapp_AMT_APPLICATION_min         173\n",
      "47                               BASEMENTAREA_MODE         171\n",
      "230                    cc_AMT_TOTAL_RECEIVABLE_max         169\n",
      "128                bureau_AMT_CREDIT_SUM_LIMIT_max         169\n",
      "263                      prevapp_DAYS_LAST_DUE_max         167\n",
      "148                       bb_STATUS_1_PERCENT_mean         167\n",
      "140               bureau_CREDIT_TYPE_Microloan_sum         166\n",
      "46                                 APARTMENTS_MODE         163\n",
      "69                                   LANDAREA_MEDI         161\n",
      "247      prevapp_NAME_CONTRACT_STATUS_Canceled_sum         157\n",
      "45                               NONLIVINGAREA_AVG         153\n",
      "145             bureau_CREDIT_TYPE_Credit card_sum         152\n",
      "153                        bb_STATUS_X_PERCENT_max         150\n",
      "85                       AMT_REQ_CREDIT_BUREAU_QRT         150\n",
      "34                     YEARS_BEGINEXPLUATATION_AVG         148\n",
      "174                        bureau_AMT_ANNUITY_mean         144\n",
      "129                bureau_AMT_CREDIT_SUM_LIMIT_min         142\n",
      "127                bureau_AMT_CREDIT_SUM_LIMIT_sum         140\n",
      "50                                 COMMONAREA_MODE         139\n",
      "245                     prevapp_DAYS_FIRST_DUE_max         137\n",
      "301                       installpay_DAYS_LATE_min         137\n",
      "64                                 COMMONAREA_MEDI         134\n",
      "227                cc_AMT_RECEIVABLE_PRINCIPAL_max         134\n",
      "32                                  APARTMENTS_AVG         133\n",
      "221               cc_CNT_INSTALMENT_MATURE_CUM_max         133\n",
      "86                      AMT_REQ_CREDIT_BUREAU_YEAR         132\n",
      "49                                YEARS_BUILD_MODE         131\n",
      "195                 cash_CNT_INSTALMENT_FUTURE_min         130\n",
      "203                    cc_AMT_DRAWINGS_CURRENT_max         130\n",
      "79                        DEF_60_CNT_SOCIAL_CIRCLE         129\n",
      "304                 installpay_PAID_OVER_FLAG_mean         128\n",
      "149                        bb_STATUS_1_PERCENT_max         126\n",
      "303                  installpay_PAID_OVER_FLAG_sum         124\n",
      "208                             cc_SK_DPD_DEF_mean         123\n",
      "125                       bureau_NUMBER_LOAN_TYPES         122\n",
      "175                         bureau_AMT_ANNUITY_max         122\n",
      "189                    bureau_CREDIT_MINUS_OVERDUE         121\n",
      "33                                BASEMENTAREA_AVG         121\n",
      "262  prevapp_NAME_CONTRACT_TYPE_Consumer loans_sum         120\n",
      "226               cc_AMT_RECEIVABLE_PRINCIPAL_mean         119\n",
      "70                           LIVINGAPARTMENTS_MEDI         119\n",
      "35                                 YEARS_BUILD_AVG         117\n",
      "229                   cc_AMT_TOTAL_RECEIVABLE_mean         116\n",
      "130                bureau_AMT_CREDIT_SUM_LIMIT_var         114\n",
      "61                               BASEMENTAREA_MEDI         113\n",
      "214                cc_AMT_INST_MIN_REGULARITY_mean         111\n",
      "26                          REG_CITY_NOT_LIVE_CITY         111\n",
      "71                                 LIVINGAREA_MEDI         109\n",
      "185                     bb_MONTHS_BALANCE_size_max         108\n",
      "293                  installpay_DAYS_LATE_FLAG_sum         108\n",
      "0                               NAME_CONTRACT_TYPE         107\n",
      "173                         bureau_AMT_ANNUITY_sum         105\n",
      "260                   prevapp_DAYS_TERMINATION_max         105\n",
      "289              prevapp_NAME_YIELD_GROUP_high_sum         104\n",
      "207                             cc_AMT_BALANCE_min         104\n",
      "231                    cc_AMT_TOTAL_RECEIVABLE_min          97\n",
      "38                                   ENTRANCES_AVG          96\n",
      "256                prevapp_DAYS_FIRST_DRAWING_mean          95\n",
      "42                            LIVINGAPARTMENTS_AVG          92\n",
      "99                  NAME_INCOME_TYPE_State servant          90\n",
      "296                     installpay_BALANCE_DUE_max          86\n",
      "109           WEEKDAY_APPR_PROCESS_START_WEDNESDAY          85\n",
      "135             bureau_AMT_CREDIT_SUM_OVERDUE_mean          84\n",
      "108             WEEKDAY_APPR_PROCESS_START_TUESDAY          84\n",
      "177                         bureau_AMT_ANNUITY_var          82\n",
      "102                       NAME_INCOME_TYPE_Working          81\n",
      "56                           LIVINGAPARTMENTS_MODE          81\n",
      "73                              NONLIVINGAREA_MEDI          79\n",
      "225                         cc_MONTHS_BALANCE_mean          78\n",
      "269          prevapp_NAME_PRODUCT_TYPE_walk-in_sum          76\n",
      "223                          cc_MONTHS_BALANCE_min          76\n",
      "154                        bb_STATUS_X_PERCENT_min          75\n",
      "228                cc_AMT_RECEIVABLE_PRINCIPAL_min          74\n",
      "274            prevapp_NAME_YIELD_GROUP_middle_sum          74\n",
      "242                   prevapp_AMT_DOWN_PAYMENT_min          70\n",
      "250           prevapp_NAME_PRODUCT_TYPE_x-sell_sum          69\n",
      "44                         NONLIVINGAPARTMENTS_AVG          69\n",
      "3                                  FLAG_OWN_REALTY          69\n",
      "218                 cc_AMT_CREDIT_LIMIT_ACTUAL_max          68\n",
      "104              WEEKDAY_APPR_PROCESS_START_MONDAY          67\n",
      "198                        cash_CNT_INSTALMENT_max          67\n",
      "18                                      FLAG_PHONE          66\n",
      "286                        prevapp_CNT_PAYMENT_min          65\n",
      "138                        bb_STATUS_C_PERCENT_min          64\n",
      "258                 prevapp_DAYS_FIRST_DRAWING_min          63\n",
      "176                         bureau_AMT_ANNUITY_min          62\n",
      "36                                  COMMONAREA_AVG          60\n",
      "52                                  ENTRANCES_MODE          59\n",
      "97           NAME_INCOME_TYPE_Commercial associate          58\n",
      "95                         NAME_TYPE_SUITE_unknown          58\n",
      "134              bureau_AMT_CREDIT_SUM_OVERDUE_var          55\n",
      "151                        bb_STATUS_1_PERCENT_var          55\n",
      "40                                   FLOORSMIN_AVG          53\n",
      "84                       AMT_REQ_CREDIT_BUREAU_MON          53\n",
      "106              WEEKDAY_APPR_PROCESS_START_SUNDAY          52\n",
      "19                                      FLAG_EMAIL          51\n",
      "215                 cc_AMT_INST_MIN_REGULARITY_max          50\n",
      "77                        DEF_30_CNT_SOCIAL_CIRCLE          50\n",
      "37                                   ELEVATORS_AVG          49\n",
      "131              bureau_AMT_CREDIT_SUM_OVERDUE_sum          44\n",
      "66                                  ENTRANCES_MEDI          41\n",
      "28                         LIVE_CITY_NOT_WORK_CITY          41\n",
      "20                            REGION_RATING_CLIENT          39\n",
      "54                                  FLOORSMIN_MODE          39\n",
      "39                                   FLOORSMAX_AVG          34\n",
      "63                                YEARS_BUILD_MEDI          33\n",
      "65                                  ELEVATORS_MEDI          32\n",
      "87                              DAYS_EMPLOYED_ANOM          32\n",
      "257                 prevapp_DAYS_FIRST_DRAWING_max          29\n",
      "53                                  FLOORSMAX_MODE          29\n",
      "150                        bb_STATUS_1_PERCENT_min          29\n",
      "92                         NAME_TYPE_SUITE_Other_B          25\n",
      "105            WEEKDAY_APPR_PROCESS_START_SATURDAY          25\n",
      "83                      AMT_REQ_CREDIT_BUREAU_WEEK          24\n",
      "58                        NONLIVINGAPARTMENTS_MODE          24\n",
      "204                    cc_AMT_DRAWINGS_CURRENT_min          22\n",
      "222               cc_CNT_INSTALMENT_MATURE_CUM_min          21\n",
      "93                 NAME_TYPE_SUITE_Spouse, partner          19\n",
      "94                   NAME_TYPE_SUITE_Unaccompanied          19\n",
      "224                          cc_MONTHS_BALANCE_max          17\n",
      "110                  HOUSETYPE_MODE_block of flats          17\n",
      "27                          REG_CITY_NOT_WORK_CITY          16\n",
      "67                                  FLOORSMAX_MEDI          15\n",
      "232             cc_AMT_DRAWINGS_OTHER_CURRENT_mean          13\n",
      "82                       AMT_REQ_CREDIT_BUREAU_DAY          12\n",
      "51                                  ELEVATORS_MODE          11\n",
      "162              bureau_AMT_CREDIT_MAX_OVERDUE_min          11\n",
      "209                              cc_SK_DPD_DEF_max          10\n",
      "103              WEEKDAY_APPR_PROCESS_START_FRIDAY           9\n",
      "132              bureau_AMT_CREDIT_SUM_OVERDUE_max           7\n",
      "72                        NONLIVINGAPARTMENTS_MEDI           7\n",
      "248        prevapp_NAME_YIELD_GROUP_low_action_sum           7\n",
      "68                                  FLOORSMIN_MEDI           6\n",
      "111                HOUSETYPE_MODE_specific housing           5\n",
      "233              cc_AMT_DRAWINGS_OTHER_CURRENT_max           5\n",
      "23                      REG_REGION_NOT_LIVE_REGION           5\n",
      "107            WEEKDAY_APPR_PROCESS_START_THURSDAY           4\n",
      "24                      REG_REGION_NOT_WORK_REGION           4\n",
      "98                      NAME_INCOME_TYPE_Pensioner           4\n",
      "25                     LIVE_REGION_NOT_WORK_REGION           4\n",
      "213                cc_AMT_DRAWINGS_ATM_CURRENT_min           1\n",
      "15                                  FLAG_EMP_PHONE           1\n",
      "201                           cash_SK_DPD_late_max           0\n",
      "112                  HOUSETYPE_MODE_terraced house           0\n",
      "210                              cc_SK_DPD_DEF_min           0\n",
      "81                      AMT_REQ_CREDIT_BUREAU_HOUR           0\n",
      "312                installpay_PAID_OVER_AMOUNT_min           0\n",
      "311                installpay_PAID_OVER_AMOUNT_max           0\n",
      "310               installpay_PAID_OVER_AMOUNT_mean           0\n",
      "101                    NAME_INCOME_TYPE_Unemployed           0\n",
      "14                                      FLAG_MOBIL           0\n",
      "17                                FLAG_CONT_MOBILE           0\n",
      "75                             EMERGENCYSTATE_MODE           0\n",
      "216                 cc_AMT_INST_MIN_REGULARITY_min           0\n",
      "100                       NAME_INCOME_TYPE_Student           0\n",
      "88                        NAME_TYPE_SUITE_Children           0\n",
      "300                       installpay_DAYS_LATE_max           0\n",
      "89                          NAME_TYPE_SUITE_Family           0\n",
      "90                 NAME_TYPE_SUITE_Group of people           0\n",
      "133              bureau_AMT_CREDIT_SUM_OVERDUE_min           0\n",
      "96                    NAME_INCOME_TYPE_Businessman           0\n",
      "234              cc_AMT_DRAWINGS_OTHER_CURRENT_min           0\n",
      "91                         NAME_TYPE_SUITE_Other_A           0\n"
     ]
    },
    {
     "data": {
      "text/plain": [
       "<matplotlib.figure.Figure at 0x1abc1710>"
      ]
     },
     "metadata": {},
     "output_type": "display_data"
    },
    {
     "data": {
      "image/png": "[encoded data removed]",
      "text/plain": [
       "<matplotlib.figure.Figure at 0x575ad6d8>"
      ]
     },
     "metadata": {},
     "output_type": "display_data"
    },
    {
     "name": "stdout",
     "output_type": "stream",
     "text": [
      "time: 384 ms\n"
     ]
    }
   ],
   "source": [
    "pd.options.display.max_rows = 4000\n",
    "feature_import_df = pd.DataFrame({'feature': feature_names, 'importance': model.feature_importances_})\n",
    "\n",
    "def plot_sorted_feature_importance (df):\n",
    "    plt.figure(figsize = (12, 8))\n",
    "    df_sorted = df.sort_values('importance', ascending = False)\n",
    "    import_threshold = 10\n",
    "    print('Number of features with importance greater than ', import_threshold, ' = ', np.sum(df_sorted['importance'] > import_threshold))\n",
    "    df_sorted.head(20).plot(x = 'feature', y = 'importance', kind = 'barh',\n",
    "                     color = 'red', edgecolor = 'k', title = 'Top 20 Feature Importances',);\n",
    "    return df_sorted\n",
    "\n",
    "feature_import_df_sorted = plot_sorted_feature_importance(feature_import_df)\n",
    "print feature_import_df_sorted"
   ]
  },
  {
   "cell_type": "markdown",
   "metadata": {},
   "source": [
    "#### Correlation to Target"
   ]
  },
  {
   "cell_type": "code",
   "execution_count": 32,
   "metadata": {
    "collapsed": false
   },
   "outputs": [
    {
     "name": "stdout",
     "output_type": "stream",
     "text": [
      "Correlation to Target\n",
      "EXT_SOURCE_2                                    -0.160295\n",
      "EXT_SOURCE_3                                    -0.155892\n",
      "EXT_SOURCE_1                                    -0.098887\n",
      "EMPLOYED_TO_BIRTH_RATIO                         -0.049603\n",
      "NAME_INCOME_TYPE_Pensioner                      -0.046209\n",
      "DAYS_EMPLOYED_ANOM                              -0.045987\n",
      "ORGANIZATION_TYPE_XNA                           -0.045987\n",
      "bb_MONTHS_BALANCE_size_mean                     -0.044119\n",
      "prevapp_RATE_DOWN_PAYMENT_max                   -0.041021\n",
      "HOUSETYPE_MODE_block of flats                   -0.040594\n",
      "prevapp_AMT_ANNUITY_mean                        -0.040200\n",
      "CARAGE_TO_BIRTH_RATIO                           -0.039817\n",
      "AMT_GOODS_PRICE                                 -0.039623\n",
      "FLOORSMAX_AVG                                   -0.039385\n",
      "FLOORSMAX_MEDI                                  -0.039157\n",
      "OCCUPATION_TYPE_unknown                         -0.038690\n",
      "FLOORSMAX_MODE                                  -0.038377\n",
      "bb_MONTHS_BALANCE_size_max                      -0.037829\n",
      "cash_CONTRACT_STATUS_ACTIVE_sum                 -0.037739\n",
      "prevapp_DAYS_LAST_DUE_var                       -0.037721\n",
      "REGION_POPULATION_RELATIVE                      -0.037227\n",
      "ELEVATORS_AVG                                   -0.035853\n",
      "ELEVATORS_MEDI                                  -0.035552\n",
      "bureau_DAYS_CREDIT_var                          -0.035453\n",
      "ELEVATORS_MODE                                  -0.034220\n",
      "PHONETO_BIRTH_RATIO                             -0.033991\n",
      "WALLSMATERIAL_MODE_Panel                        -0.033119\n",
      "CREDIT_TO_ANNUITY_RATIO                         -0.032101\n",
      "NAME_CONTRACT_TYPE                              -0.030896\n",
      "bb_STATUS_C_PERCENT_mean                        -0.030702\n",
      "AMT_CREDIT                                      -0.030369\n",
      "TOTALAREA_MODE                                  -0.030214\n",
      "LIVINGAREA_AVG                                  -0.029464\n",
      "LIVINGAREA_MEDI                                 -0.029359\n",
      "FLAG_DOCUMENT_6                                 -0.028602\n",
      "NAME_HOUSING_TYPE_House / apartment             -0.028555\n",
      "installpay_BALANCE_DUE_mean                     -0.028345\n",
      "installpay_PAID_OVER_AMOUNT_mean                -0.028345\n",
      "prevapp_AMT_ANNUITY_min                         -0.028134\n",
      "LIVINGAREA_MODE                                 -0.027884\n",
      "prevapp_NAME_YIELD_GROUP_low_action_mean        -0.027047\n",
      "APARTMENTS_MEDI                                 -0.026841\n",
      "prevapp_AMT_ANNUITY_max                         -0.026782\n",
      "APARTMENTS_AVG                                  -0.026734\n",
      "prevapp_AMT_DOWN_PAYMENT_mean                   -0.026010\n",
      "installpay_PAID_OVER_FLAG_sum                   -0.025580\n",
      "APARTMENTS_MODE                                 -0.025418\n",
      "NAME_FAMILY_STATUS_Married                      -0.025047\n",
      "prevapp_AMT_DOWN_PAYMENT_max                    -0.024824\n",
      "installpay_PAID_OVER_FLAG_mean                  -0.024575\n",
      "installpay_AMT_PAYMENT_min                      -0.024458\n",
      "HOUR_APPR_PROCESS_START                         -0.024166\n",
      "FLAG_PHONE                                      -0.023806\n",
      "bb_MONTHS_BALANCE_size_sum                      -0.023525\n",
      "CREDIT_PERPERSON                                -0.023464\n",
      "NAME_INCOME_TYPE_State servant                  -0.023447\n",
      "bb_STATUS_C_PERCENT_max                         -0.022914\n",
      "prevapp_NAME_YIELD_GROUP_low_action_sum         -0.022731\n",
      "FONDKAPREMONT_MODE_reg oper account             -0.022587\n",
      "installpay_AMT_PAYMENT_sum                      -0.022203\n",
      "FLAG_OWN_CAR                                    -0.021851\n",
      "installpay_AMT_PAYMENT_mean                     -0.021670\n",
      "OCCUPATION_TYPE_Accountants                     -0.021610\n",
      "FLOORSMIN_AVG                                   -0.021158\n",
      "FLOORSMIN_MEDI                                  -0.020995\n",
      "bureau_AMT_CREDIT_SUM_max                       -0.020752\n",
      "installpay_PAID_OVER_AMOUNT_min                 -0.020560\n",
      "installpay_BALANCE_DUE_min                      -0.020560\n",
      "bureau_CREDIT_MINUS_OVERDUE                     -0.020472\n",
      "bureau_AMT_CREDIT_SUM_mean                      -0.020433\n",
      "OCCUPATION_TYPE_Core staff                      -0.020378\n",
      "FLOORSMIN_MODE                                  -0.020147\n",
      "prevapp_NAME_CONTRACT_TYPE_Consumer loans_sum   -0.020078\n",
      "prevapp_ASKED_MINUS_CREDITGIVEN_max             -0.020061\n",
      "prevapp_AMT_APPLICATION_mean                    -0.019964\n",
      "prevapp_AMT_ANNUITY_var                         -0.019903\n",
      "NAME_FAMILY_STATUS_Widow                        -0.019394\n",
      "LIVINGAPARTMENTS_AVG                            -0.019262\n",
      "bb_MONTHS_BALANCE_size_var                      -0.019257\n",
      "prevapp_AMT_APPLICATION_min                     -0.019173\n",
      "LIVINGAPARTMENTS_MEDI                           -0.019138\n",
      "prevapp_ASKED_MINUS_CREDITGIVEN_mean            -0.018903\n",
      "LIVINGAPARTMENTS_MODE                           -0.018829\n",
      "OCCUPATION_TYPE_Managers                        -0.018648\n",
      "installpay_DAYS_DELTA_mean                      -0.018283\n",
      "NONLIVINGAREA_AVG                               -0.018187\n",
      "NONLIVINGAREA_MEDI                              -0.018094\n",
      "NONLIVINGAREA_MODE                              -0.017984\n",
      "prevapp_AMT_CREDIT_min                          -0.017891\n",
      "BASEMENTAREA_AVG                                -0.017634\n",
      "BASEMENTAREA_MEDI                               -0.017255\n",
      "prevapp_NAME_PRODUCT_TYPE_x-sell_mean           -0.016431\n",
      "COMMONAREA_MEDI                                 -0.016266\n",
      "COMMONAREA_AVG                                  -0.016194\n",
      "BASEMENTAREA_MODE                               -0.016136\n",
      "ENTRANCES_AVG                                   -0.015984\n",
      "ENTRANCES_MEDI                                  -0.015734\n",
      "bureau_AMT_CREDIT_SUM_sum                       -0.015515\n",
      "COMMONAREA_MODE                                 -0.015238\n",
      "AMT_REQ_CREDIT_BUREAU_MON                       -0.014794\n",
      "cc_ATM_TO_TOTALDRAW_RATIO                       -0.014608\n",
      "prevapp_NAME_YIELD_GROUP_middle_mean            -0.014587\n",
      "prevapp_AMT_CREDIT_mean                         -0.014388\n",
      "bb_STATUS_C_PERCENT_min                         -0.014001\n",
      "OCCUPATION_TYPE_High skill tech staff           -0.013766\n",
      "prevapp_AMT_DOWN_PAYMENT_min                    -0.013744\n",
      "ORGANIZATION_TYPE_School                        -0.013671\n",
      "ENTRANCES_MODE                                  -0.013515\n",
      "installpay_PAID_OVER_AMOUNT_max                 -0.012848\n",
      "installpay_BALANCE_DUE_max                      -0.012848\n",
      "AMT_ANNUITY                                     -0.012815\n",
      "WALLSMATERIAL_MODE_Stone, brick                 -0.012657\n",
      "bureau_AMT_CREDIT_SUM_LIMIT_max                 -0.012327\n",
      "LANDAREA_MEDI                                   -0.012269\n",
      "prevapp_ASKED_MINUS_CREDITGIVEN_min             -0.012265\n",
      "LANDAREA_AVG                                    -0.012047\n",
      "NAME_INCOME_TYPE_Commercial associate           -0.011906\n",
      "LANDAREA_MODE                                   -0.011860\n",
      "prevapp_AMT_APPLICATION_var                     -0.011757\n",
      "FLAG_DOCUMENT_16                                -0.011615\n",
      "FLAG_DOCUMENT_13                                -0.011583\n",
      "cc_CNT_INSTALMENT_MATURE_CUM_min                -0.011546\n",
      "YEARS_BUILD_MEDI                                -0.011364\n",
      "bureau_AMT_CREDIT_SUM_min                       -0.011360\n",
      "FONDKAPREMONT_MODE_org spec account             -0.011285\n",
      "YEARS_BUILD_AVG                                 -0.011281\n",
      "FONDKAPREMONT_MODE_reg oper spec account        -0.011257\n",
      "bureau_AMT_CREDIT_SUM_LIMIT_sum                 -0.011244\n",
      "prevapp_AMT_CREDIT_min_APPROVED                 -0.011182\n",
      "YEARS_BUILD_MODE                                -0.010648\n",
      "ORGANIZATION_TYPE_Medicine                      -0.010619\n",
      "prevapp_AMT_APPLICATION_max                     -0.010556\n",
      "prevapp_RATE_DOWN_PAYMENT_min                   -0.010520\n",
      "ORGANIZATION_TYPE_Military                      -0.010057\n",
      "ORGANIZATION_TYPE_Police                        -0.009886\n",
      "ORGANIZATION_TYPE_Bank                          -0.009609\n",
      "cc_CNT_INSTALMENT_MATURE_CUM_mean               -0.009600\n",
      "ORGANIZATION_TYPE_Security Ministries           -0.009470\n",
      "FLAG_DOCUMENT_14                                -0.009464\n",
      "WALLSMATERIAL_MODE_Monolithic                   -0.009384\n",
      "installpay_BALANCE_DUE_var                      -0.009083\n",
      "bureau_PASTLOANS_PER_TYPE_RATIO                 -0.008847\n",
      "OCCUPATION_TYPE_Medicine staff                  -0.008514\n",
      "NAME_TYPE_SUITE_Family                          -0.008226\n",
      "bb_STATUS_C_PERCENT_var                         -0.008225\n",
      "FLAG_DOCUMENT_8                                 -0.008040\n",
      "FLAG_DOCUMENT_18                                -0.007952\n",
      "prevapp_CNT_PAYMENT_min                         -0.007905\n",
      "CREDIT_TO_INCOME_RATIO                          -0.007727\n",
      "ORGANIZATION_TYPE_University                    -0.007672\n",
      "ORGANIZATION_TYPE_Government                    -0.007520\n",
      "prevapp_CNT_PAYMENT_sum_APPROVED                -0.007008\n",
      "WALLSMATERIAL_MODE_Block                        -0.006777\n",
      "installpay_DAYS_LATE_sum                        -0.006738\n",
      "INCOME_PERPERSON                                -0.006576\n",
      "FLAG_DOCUMENT_15                                -0.006536\n",
      "prevapp_AMT_CREDIT_max                          -0.006472\n",
      "NAME_TYPE_SUITE_unknown                         -0.006330\n",
      "FLAG_OWN_REALTY                                 -0.006148\n",
      "NONLIVINGAPARTMENTS_AVG                         -0.005910\n",
      "AMT_REQ_CREDIT_BUREAU_QRT                       -0.005833\n",
      "ORGANIZATION_TYPE_Trade: type 6                 -0.005788\n",
      "ORGANIZATION_TYPE_Kindergarten                  -0.005764\n",
      "installpay_DAYS_DELTA_max                       -0.005723\n",
      "NONLIVINGAPARTMENTS_MEDI                        -0.005650\n",
      "bureau_AMT_CREDIT_SUM_LIMIT_var                 -0.005527\n",
      "ORGANIZATION_TYPE_Industry: type 12             -0.005444\n",
      "ORGANIZATION_TYPE_Industry: type 9              -0.005379\n",
      "bureau_AMT_CREDIT_SUM_DEBT_var                  -0.005282\n",
      "WEEKDAY_APPR_PROCESS_START_MONDAY               -0.005149\n",
      "NAME_HOUSING_TYPE_Office apartment              -0.005103\n",
      "installpay_DAYS_DELTA_min                       -0.005068\n",
      "OCCUPATION_TYPE_Private service staff           -0.005047\n",
      "cc_CNT_INSTALMENT_MATURE_CUM_max                -0.004939\n",
      "YEARS_BEGINEXPLUATATION_MEDI                    -0.004872\n",
      "NONLIVINGAPARTMENTS_MODE                        -0.004859\n",
      "bureau_AMT_CREDIT_SUM_DEBT_max                  -0.004783\n",
      "bureau_AMT_CREDIT_SUM_LIMIT_min                 -0.004757\n",
      "YEARS_BEGINEXPLUATATION_AVG                     -0.004665\n",
      "installpay_DAYS_LATE_min                        -0.004435\n",
      "FLAG_DOCUMENT_9                                 -0.004352\n",
      "FLAG_DOCUMENT_11                                -0.004229\n",
      "YEARS_BEGINEXPLUATATION_MODE                    -0.004061\n",
      "AMT_INCOME_TOTAL                                -0.003982\n",
      "prevapp_NAME_YIELD_GROUP_middle_sum             -0.003942\n",
      "ORGANIZATION_TYPE_Services                      -0.003871\n",
      "ORGANIZATION_TYPE_Insurance                     -0.003850\n",
      "ORGANIZATION_TYPE_Other                         -0.003784\n",
      "ORGANIZATION_TYPE_Hotel                         -0.003410\n",
      "FLAG_DOCUMENT_17                                -0.003378\n",
      "ORGANIZATION_TYPE_Transport: type 1             -0.003375\n",
      "ORGANIZATION_TYPE_Culture                       -0.003265\n",
      "installpay_AMT_PAYMENT_var                      -0.003135\n",
      "ORGANIZATION_TYPE_Trade: type 2                 -0.003105\n",
      "ORGANIZATION_TYPE_Electricity                   -0.002945\n",
      "bureau_MONTHSBALANCE_DIVIDEDBY_DAYSCREDIT       -0.002724\n",
      "FLAG_DOCUMENT_4                                 -0.002672\n",
      "FONDKAPREMONT_MODE_not specified                -0.002667\n",
      "NAME_TYPE_SUITE_Children                        -0.002648\n",
      "OCCUPATION_TYPE_HR staff                        -0.002639\n",
      "ORGANIZATION_TYPE_Trade: type 4                 -0.002621\n",
      "bureau_AMT_CREDIT_SUM_DEBT_mean                 -0.002548\n",
      "OCCUPATION_TYPE_Secretaries                     -0.002452\n",
      "OCCUPATION_TYPE_IT staff                        -0.002445\n",
      "WEEKDAY_APPR_PROCESS_START_SATURDAY             -0.002396\n",
      "cc_AMT_CREDIT_LIMIT_ACTUAL_max                  -0.002304\n",
      "NAME_INCOME_TYPE_Student                        -0.002267\n",
      "ORGANIZATION_TYPE_Industry: type 5              -0.001992\n",
      "prevapp_NAME_PRODUCT_TYPE_x-sell_sum            -0.001791\n",
      "FLAG_EMAIL                                      -0.001758\n",
      "WALLSMATERIAL_MODE_Mixed                        -0.001713\n",
      "NAME_INCOME_TYPE_Businessman                    -0.001690\n",
      "FLAG_DOCUMENT_7                                 -0.001520\n",
      "ORGANIZATION_TYPE_Emergency                     -0.001458\n",
      "NAME_TYPE_SUITE_Spouse, partner                 -0.001448\n",
      "FLAG_DOCUMENT_10                                -0.001414\n",
      "FLAG_DOCUMENT_19                                -0.001358\n",
      "ORGANIZATION_TYPE_Religion                      -0.001337\n",
      "bureau_AMT_CREDIT_SUM_var                       -0.001312\n",
      "AMT_REQ_CREDIT_BUREAU_WEEK                      -0.001306\n",
      "cc_AMT_CREDIT_LIMIT_ACTUAL_mean                 -0.001263\n",
      "WEEKDAY_APPR_PROCESS_START_SUNDAY               -0.001244\n",
      "ORGANIZATION_TYPE_Industry: type 2              -0.001230\n",
      "ORGANIZATION_TYPE_Industry: type 10             -0.001141\n",
      "ORGANIZATION_TYPE_Trade: type 5                 -0.000904\n",
      "prevapp_DAYS_FIRST_DRAWING_min                  -0.000857\n",
      "ORGANIZATION_TYPE_Transport: type 2             -0.000839\n",
      "cc_AMT_DRAWINGS_OTHER_CURRENT_min               -0.000784\n",
      "FLAG_DOCUMENT_12                                -0.000756\n",
      "ORGANIZATION_TYPE_Telecom                       -0.000712\n",
      "ORGANIZATION_TYPE_Industry: type 6              -0.000652\n",
      "bureau_AMT_CREDIT_MAX_OVERDUE_var               -0.000635\n",
      "bureau_NUMBER_PAST_LOANS                        -0.000469\n",
      "ORGANIZATION_TYPE_Housing                       -0.000464\n",
      "bureau_AMT_ANNUITY_min                          -0.000394\n",
      "OCCUPATION_TYPE_Realty agents                   -0.000394\n",
      "bureau_AMT_CREDIT_SUM_DEBT_min                  -0.000322\n",
      "FLAG_DOCUMENT_5                                 -0.000316\n",
      "NAME_HOUSING_TYPE_Co-op apartment               -0.000312\n",
      "ORGANIZATION_TYPE_Legal Services                -0.000236\n",
      "installpay_DAYS_LATE_var                        -0.000229\n",
      "bb_STATUS_X_PERCENT_min                         -0.000120\n",
      "ORGANIZATION_TYPE_Industry: type 7              -0.000094\n",
      "installpay_DAYS_DELTA_var                       -0.000081\n",
      "AMT_REQ_CREDIT_BUREAU_HOUR                      -0.000074\n",
      "bureau_AMT_CREDIT_SUM_OVERDUE_min               -0.000034\n",
      "ORGANIZATION_TYPE_Advertising                    0.000117\n",
      "bureau_AMT_ANNUITY_mean                          0.000171\n",
      "FLAG_DOCUMENT_20                                 0.000215\n",
      "bb_STATUS_X_PERCENT_var                          0.000281\n",
      "ORGANIZATION_TYPE_Business Entity Type 1         0.000339\n",
      "FLAG_CONT_MOBILE                                 0.000370\n",
      "WEEKDAY_APPR_PROCESS_START_THURSDAY              0.000446\n",
      "NAME_TYPE_SUITE_Group of people                  0.000452\n",
      "bureau_DAYS_CREDIT_UPDATE_var                    0.000482\n",
      "FLAG_MOBIL                                       0.000534\n",
      "bb_STATUS_X_PERCENT_mean                         0.000553\n",
      "bb_STATUS_X_PERCENT_max                          0.000579\n",
      "WALLSMATERIAL_MODE_Others                        0.000628\n",
      "cc_AMT_INST_MIN_REGULARITY_min                   0.000723\n",
      "bureau_AMT_ANNUITY_var                           0.000752\n",
      "installpay_DAYS_LATE_max                         0.000787\n",
      "bureau_AMT_ANNUITY_max                           0.000801\n",
      "HOUSETYPE_MODE_terraced house                    0.000982\n",
      "ORGANIZATION_TYPE_Trade: type 1                  0.001032\n",
      "ORGANIZATION_TYPE_Postal                         0.001125\n",
      "bureau_AMT_ANNUITY_sum                           0.001131\n",
      "NAME_FAMILY_STATUS_Separated                     0.001168\n",
      "WEEKDAY_APPR_PROCESS_START_FRIDAY                0.001203\n",
      "ORGANIZATION_TYPE_Mobile                         0.001268\n",
      "NAME_TYPE_SUITE_Other_A                          0.001372\n",
      "ORGANIZATION_TYPE_Industry: type 8               0.001436\n",
      "WEEKDAY_APPR_PROCESS_START_WEDNESDAY             0.001447\n",
      "AMT_REQ_CREDIT_BUREAU_DAY                        0.001701\n",
      "bureau_AMT_CREDIT_MAX_OVERDUE_max                0.001772\n",
      "bureau_AMT_CREDIT_SUM_OVERDUE_var                0.001782\n",
      "ORGANIZATION_TYPE_Industry: type 11              0.002009\n",
      "bureau_AMT_CREDIT_MAX_OVERDUE_mean               0.002438\n",
      "LIVE_REGION_NOT_WORK_REGION                      0.002819\n",
      "ORGANIZATION_TYPE_Industry: type 13              0.002905\n",
      "bureau_AMT_CREDIT_SUM_DEBT_sum                   0.003102\n",
      "ORGANIZATION_TYPE_Business Entity Type 2         0.003152\n",
      "installpay_AMT_PAYMENT_max                       0.003185\n",
      "ORGANIZATION_TYPE_Cleaning                       0.003290\n",
      "NAME_HOUSING_TYPE_Municipal apartment            0.003329\n",
      "ORGANIZATION_TYPE_Realtor                        0.003339\n",
      "FLAG_DOCUMENT_21                                 0.003709\n",
      "cc_SK_DPD_DEF_mean                               0.003804\n",
      "ORGANIZATION_TYPE_Industry: type 4               0.004074\n",
      "bureau_AMT_CREDIT_MAX_OVERDUE_min                0.004109\n",
      "cc_SK_DPD_DEF_max                                0.004272\n",
      "WEEKDAY_APPR_PROCESS_START_TUESDAY               0.004698\n",
      "cc_MONTHS_BALANCE_max                            0.004698\n",
      "NAME_INCOME_TYPE_Maternity leave                 0.004726\n",
      "EMERGENCYSTATE_MODE                              0.004829\n",
      "cc_AMT_CREDIT_LIMIT_ACTUAL_min                   0.004909\n",
      "NAME_TYPE_SUITE_Other_B                          0.004909\n",
      "HOUSETYPE_MODE_specific housing                  0.005311\n",
      "FLAG_DOCUMENT_2                                  0.005417\n",
      "REG_REGION_NOT_LIVE_REGION                       0.005576\n",
      "ORGANIZATION_TYPE_Transport: type 4              0.005929\n",
      "bureau_AMT_CREDIT_SUM_OVERDUE_mean               0.006380\n",
      "ORGANIZATION_TYPE_Industry: type 1               0.006402\n",
      "cc_AMT_DRAWINGS_CURRENT_min                      0.006734\n",
      "REG_REGION_NOT_WORK_REGION                       0.006942\n",
      "OCCUPATION_TYPE_Cleaning staff                   0.006979\n",
      "ORGANIZATION_TYPE_Security                       0.007226\n",
      "OCCUPATION_TYPE_Waiters/barmen staff             0.007802\n",
      "ORGANIZATION_TYPE_Agriculture                    0.007901\n",
      "WALLSMATERIAL_MODE_Wooden                        0.007946\n",
      "ORGANIZATION_TYPE_Trade: type 7                  0.008170\n",
      "cc_AMT_DRAWINGS_OTHER_CURRENT_max                0.008203\n",
      "NAME_TYPE_SUITE_Unaccompanied                    0.008301\n",
      "bureau_NUMBER_LOAN_TYPES                         0.008766\n",
      "NAME_INCOME_TYPE_Unemployed                      0.008784\n",
      "ORGANIZATION_TYPE_Trade: type 3                  0.008911\n",
      "prevapp_DAYS_FIRST_DRAWING_mean                  0.008935\n",
      "OBS_60_CNT_SOCIAL_CIRCLE                         0.009337\n",
      "OBS_30_CNT_SOCIAL_CIRCLE                         0.009447\n",
      "cc_AMT_DRAWINGS_ATM_CURRENT_min                  0.009454\n",
      "cc_AMT_DRAWINGS_OTHER_CURRENT_mean               0.009472\n",
      "bureau_AMT_CREDIT_SUM_OVERDUE_max                0.009482\n",
      "ORGANIZATION_TYPE_Industry: type 3               0.009691\n",
      "prevapp_DAYS_FIRST_DRAWING_max                   0.009809\n",
      "ORGANIZATION_TYPE_Restaurant                     0.010266\n",
      "bureau_AMT_CREDIT_SUM_OVERDUE_sum                0.011943\n",
      "AMT_REQ_CREDIT_BUREAU_YEAR                       0.012161\n",
      "prevapp_CREDIT_MINUS_GOODSPRICE_max              0.012178\n",
      "OCCUPATION_TYPE_Cooking staff                    0.012222\n",
      "ANNUITY_TO_INCOME_RATIO                          0.014268\n",
      "prevapp_CNT_PAYMENT_mean                         0.014348\n",
      "prevapp_DAYS_DECISION_max                        0.014579\n",
      "cash_CNT_INSTALMENT_max                          0.014641\n",
      "OCCUPATION_TYPE_Security staff                   0.014648\n",
      "cash_CNT_INSTALMENT_FUTURE_max                   0.015434\n",
      "ORGANIZATION_TYPE_Transport: type 3              0.017552\n",
      "cash_CNT_INSTALMENT_mean                         0.017928\n",
      "prevapp_DAYS_FIRST_DUE_max                       0.018120\n",
      "bb_STATUS_1_PERCENT_var                          0.018342\n",
      "prevapp_DAYS_LAST_DUE_max                        0.018613\n",
      "prevapp_CREDIT_MINUS_GOODSPRICE_mean             0.018796\n",
      "prevapp_DAYS_TERMINATION_max                     0.019133\n",
      "OCCUPATION_TYPE_Sales staff                      0.019537\n",
      "NAME_HOUSING_TYPE_Rented apartment               0.019767\n",
      "ORGANIZATION_TYPE_Construction                   0.019792\n",
      "prevapp_CREDIT_MINUS_GOODSPRICE_min              0.019858\n",
      "bb_STATUS_1_PERCENT_min                          0.020581\n",
      "prevapp_NAME_CONTRACT_STATUS_Canceled_sum        0.020757\n",
      "prevapp_DAYS_LAST_DUE_1ST_VERSION_max            0.021437\n",
      "NAME_FAMILY_STATUS_Civil marriage                0.022496\n",
      "INCOME_MINUS_CREDIT_PERPERSON                    0.022549\n",
      "ORGANIZATION_TYPE_Business Entity Type 3         0.023993\n",
      "bureau_DAYS_CREDIT_ENDDATE_var                   0.024086\n",
      "cc_MONTHS_BALANCE_min                            0.026335\n",
      "NAME_FAMILY_STATUS_Single / not married          0.026518\n",
      "cc_MONTHS_BALANCE_mean                           0.026989\n",
      "OCCUPATION_TYPE_Low-skill Laborers               0.027591\n",
      "bureau_DAYS_CREDIT_ENDDATE_max                   0.027859\n",
      "bureau_DAYS_CREDIT_ENDDATE_min                   0.028472\n",
      "FLAG_WORK_PHONE                                  0.028524\n",
      "ORGANIZATION_TYPE_Self-employed                  0.029139\n",
      "bureau_CREDIT_TYPE_Credit card_sum               0.029147\n",
      "bureau_DAYS_CREDIT_UPDATE_max                    0.029439\n",
      "NAME_HOUSING_TYPE_With parents                   0.029966\n",
      "OBS_30_DEFAULT_RATIO                             0.030055\n",
      "bureau_CREDIT_TYPE_Microloan_sum                 0.030122\n",
      "OCCUPATION_TYPE_Drivers                          0.030303\n",
      "prevapp_CNT_PAYMENT_max                          0.030430\n",
      "cash_SK_DPD_late_mean                            0.030632\n",
      "cc_AMT_DRAWINGS_CURRENT_max                      0.030934\n",
      "cash_CNT_INSTALMENT_FUTURE_mean                  0.031016\n",
      "DEF_60_CNT_SOCIAL_CIRCLE                         0.031401\n",
      "installpay_DAYS_LATE_FLAG_sum                    0.031903\n",
      "bb_STATUS_1_PERCENT_max                          0.032112\n",
      "DEF_30_CNT_SOCIAL_CIRCLE                         0.032394\n",
      "cc_AMT_DRAWINGS_ATM_CURRENT_max                  0.032420\n",
      "LIVE_CITY_NOT_WORK_CITY                          0.032518\n",
      "bb_STATUS_1_PERCENT_mean                         0.032810\n",
      "cash_MONTHS_BALANCE_mean                         0.033149\n",
      "cash_SK_DPD_late_max                             0.033858\n",
      "cc_AMT_DRAWINGS_CURRENT_mean                     0.034937\n",
      "cash_CNT_INSTALMENT_FUTURE_min                   0.035109\n",
      "cash_FUTURE_RATIO_min                            0.035710\n",
      "prevapp_NAME_YIELD_GROUP_high_sum                0.036327\n",
      "cc_AMT_RECEIVABLE_PRINCIPAL_min                  0.036751\n",
      "cc_AMT_TOTAL_RECEIVABLE_min                      0.036931\n",
      "cc_AMT_INST_MIN_REGULARITY_max                   0.037257\n",
      "cc_AMT_BALANCE_min                               0.037261\n",
      "bureau_DAYS_CREDIT_ENDDATE_mean                  0.037309\n",
      "prevapp_NAME_YIELD_GROUP_high_mean               0.038073\n",
      "cc_AMT_RECEIVABLE_PRINCIPAL_max                  0.038958\n",
      "cc_AMT_TOTAL_RECEIVABLE_max                      0.039512\n",
      "cc_AMT_BALANCE_max                               0.039899\n",
      "bureau_DAYS_CREDIT_UPDATE_min                    0.040178\n",
      "bureau_CREDIT_ENDDATE_FLAG_sum                   0.040406\n",
      "DAYS_REGISTRATION                                0.041975\n",
      "OCCUPATION_TYPE_Laborers                         0.043019\n",
      "cc_AMT_INST_MIN_REGULARITY_mean                  0.043415\n",
      "FLAG_DOCUMENT_3                                  0.044346\n",
      "REG_CITY_NOT_LIVE_CITY                           0.044395\n",
      "cc_AMT_DRAWINGS_ATM_CURRENT_mean                 0.044509\n",
      "prevapp_DAYS_DECISION_mean                       0.044873\n",
      "FLAG_EMP_PHONE                                   0.045982\n",
      "prevapp_CODE_REJECT_REASON_HC_sum                0.047488\n",
      "bureau_CREDIT_ENDDATE_FLAG_mean                  0.048249\n",
      "prevapp_DAYS_LAST_DUE_1ST_VERSION_mean           0.048368\n",
      "bureau_DAYS_CREDIT_max                           0.048847\n",
      "cc_AMT_RECEIVABLE_PRINCIPAL_mean                 0.049149\n",
      "prevapp_DAYS_TERMINATION_min                     0.049266\n",
      "cc_AMT_TOTAL_RECEIVABLE_mean                     0.049372\n",
      "cc_AMT_BALANCE_mean                              0.049729\n",
      "prevapp_DAYS_LAST_DUE_1ST_VERSION_min            0.050033\n",
      "REG_CITY_NOT_WORK_CITY                           0.050994\n",
      "prevapp_DAYS_TERMINATION_mean                    0.051015\n",
      "DAYS_ID_PUBLISH                                  0.051457\n",
      "prevapp_DAYS_LAST_DUE_mean                       0.051480\n",
      "prevapp_DAYS_FIRST_DUE_min                       0.051700\n",
      "cash_MONTHS_BALANCE_min                          0.053738\n",
      "prevapp_DAYS_FIRST_DUE_mean                      0.054425\n",
      "CODE_GENDER                                      0.054713\n",
      "DAYS_LAST_PHONE_CHANGE                           0.055218\n",
      "NAME_EDUCATION_TYPE                              0.056835\n",
      "NAME_INCOME_TYPE_Working                         0.057481\n",
      "prevapp_NAME_PRODUCT_TYPE_walk-in_mean           0.057810\n",
      "REGION_RATING_CLIENT                             0.058899\n",
      "bureau_CREDIT_ACTIVE_FLAG_sum                    0.060854\n",
      "REGION_RATING_CLIENT_W_CITY                      0.060893\n",
      "prevapp_NAME_PRODUCT_TYPE_walk-in_sum            0.062785\n",
      "DAYS_EMPLOYED                                    0.063368\n",
      "bureau_DAYS_CREDIT_UPDATE_mean                   0.064120\n",
      "bureau_DAYS_CREDIT_min                           0.067388\n",
      "CREDIT_TO_GOODS_RATIO                            0.068474\n",
      "bureau_CREDIT_ACTIVE_FLAG_mean                   0.070352\n",
      "installpay_DAYS_LATE_FLAG_mean                   0.070792\n",
      "DAYS_BIRTH                                       0.078239\n",
      "bureau_DAYS_CREDIT_mean                          0.082079\n",
      "TARGET                                           1.000000\n",
      "cc_SK_DPD_DEF_min                                     NaN\n",
      "Name: TARGET, dtype: float64\n",
      "time: 2min 24s\n"
     ]
    }
   ],
   "source": [
    "def find_corr_to_target (df):\n",
    "    target_corr = df.corr()['TARGET']  #target_corr is correlation of specific variables to target \n",
    "    target_corr = target_corr.sort_values()\n",
    "    return target_corr # Correlation to target variable\n",
    "\n",
    "pd.options.display.max_rows = 4000\n",
    "target_corr = find_corr_to_target(train) #can use subset or all\n",
    "print ('Correlation to Target')\n",
    "print target_corr"
   ]
  },
  {
   "cell_type": "markdown",
   "metadata": {},
   "source": [
    "#### Correlation between variables (multicollinearity)"
   ]
  },
  {
   "cell_type": "code",
   "execution_count": 33,
   "metadata": {
    "collapsed": false
   },
   "outputs": [
    {
     "name": "stdout",
     "output_type": "stream",
     "text": [
      "Suggested number of columns to remove with collinearity above 0.8 :  0\n"
     ]
    },
    {
     "data": {
      "text/plain": [
       "[]"
      ]
     },
     "execution_count": 33,
     "metadata": {},
     "output_type": "execute_result"
    },
    {
     "name": "stdout",
     "output_type": "stream",
     "text": [
      "time: 31 ms\n"
     ]
    }
   ],
   "source": [
    "def find_multicollinearity (df, threshold = 0.8):\n",
    "    corrs = df.corr()\n",
    "    above_threshold_vars = {} # dictionary to hold correlated variables\n",
    "\n",
    "    # Record variables that are above threshold.\n",
    "    for col in corrs:  \n",
    "        above_threshold_vars[col] = list(corrs.index[corrs[col] > threshold])\n",
    "\n",
    "    # Track of columns already examined\n",
    "    drop_these_columns = []\n",
    "    drop_these_columns_pairs = []\n",
    "    cols_seen = []\n",
    "    for key, value in above_threshold_vars.items():\n",
    "        cols_seen.append(key)\n",
    "        for x in value:\n",
    "            if x == key:\n",
    "                next\n",
    "            else: # Only want to remove one in a pair\n",
    "                if x not in cols_seen:\n",
    "                    drop_these_columns.append(x)\n",
    "                    drop_these_columns_pairs.append(key)\n",
    "            \n",
    "    drop_these_columns = list(set(drop_these_columns))\n",
    "    return above_threshold_vars, drop_these_columns, threshold\n",
    "\n",
    "# use correlation between variables to identify columns to delete\n",
    "data_subset = train[[]]\n",
    "above_threshold_vars, drop_these_columns, threshold = find_multicollinearity (data_subset, .8)\n",
    "print 'Suggested number of columns to remove with collinearity above', threshold, ': ', len(drop_these_columns)\n",
    "drop_these_columns"
   ]
  }
 ],
 "metadata": {
  "kernelspec": {
   "display_name": "Python 2",
   "language": "python",
   "name": "python2"
  },
  "language_info": {
   "codemirror_mode": {
    "name": "ipython",
    "version": 2
   },
   "file_extension": ".py",
   "mimetype": "text/x-python",
   "name": "python",
   "nbconvert_exporter": "python",
   "pygments_lexer": "ipython2",
   "version": "2.7.13"
  }
 },
 "nbformat": 4,
 "nbformat_minor": 2
}
